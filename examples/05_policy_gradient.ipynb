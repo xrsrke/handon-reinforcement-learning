{
 "cells": [
  {
   "cell_type": "code",
   "execution_count": 26,
   "metadata": {},
   "outputs": [],
   "source": [
    "import torch\n",
    "from torch import nn\n",
    "from torch import optim\n",
    "\n",
    "import gym\n",
    "import numpy as np\n",
    "\n",
    "from octopus.policy.evaluate import evaluate_agent\n",
    "from octopus.policy.loss import reinforce_loss"
   ]
  },
  {
   "cell_type": "code",
   "execution_count": 27,
   "metadata": {},
   "outputs": [],
   "source": [
    "class Policy(nn.Module):\n",
    "    def __init__(self, n_states, n_hidden, n_actions):\n",
    "        super().__init__()\n",
    "        self.layers = nn.Sequential(\n",
    "            nn.Linear(n_states, n_hidden),\n",
    "            nn.ReLU(),\n",
    "            nn.Linear(n_hidden, n_actions),\n",
    "            nn.Softmax(dim=-1)\n",
    "        )\n",
    "    \n",
    "    def forward(self, x):\n",
    "        return self.layers(x)"
   ]
  },
  {
   "cell_type": "code",
   "execution_count": 28,
   "metadata": {},
   "outputs": [],
   "source": [
    "env = gym.make(\"CartPole-v1\")\n",
    "n_states = env.observation_space.shape[0]\n",
    "n_actions = env.action_space.n\n",
    "n_hidden = 64"
   ]
  },
  {
   "cell_type": "code",
   "execution_count": 29,
   "metadata": {},
   "outputs": [],
   "source": [
    "def learner(policy, optimizier, n_training_episodes, discount_factor=0.99):\n",
    "    for i_episode in range(n_training_episodes):\n",
    "        rewards = []\n",
    "        selected_actions = []\n",
    "        log_prob_selected_actions = []\n",
    "        selected_probs = []\n",
    "        \n",
    "        state, _ = env.reset()\n",
    "        state = torch.from_numpy(state)\n",
    "        in_progress = True\n",
    "        \n",
    "        while in_progress:\n",
    "            predicted_action = policy(state)\n",
    "            action = torch.multinomial(predicted_action, num_samples=1).item()\n",
    "            \n",
    "            next_state, reward, done, truncated, info = env.step(action)\n",
    "            \n",
    "            selected_actions.append(action)\n",
    "            log_prob_selected_actions.append(predicted_action[action].log())\n",
    "            selected_probs.append(predicted_action[action])\n",
    "            rewards.append(torch.tensor(reward))\n",
    "            \n",
    "            if done: break\n",
    "            \n",
    "            state = torch.from_numpy(next_state)\n",
    "\n",
    "        loss = reinforce_loss(\n",
    "            log_probs=log_prob_selected_actions,\n",
    "            rewards=rewards,\n",
    "            discount_factor=discount_factor\n",
    "        )\n",
    "        \n",
    "        optimizier.zero_grad()\n",
    "        loss.backward()\n",
    "        optimizier.step()\n",
    "        \n",
    "        if i_episode % 100 == 0:\n",
    "            print('Episode {}\\tLoss: {:.2f}'.format(i_episode, loss.detach().numpy()))"
   ]
  },
  {
   "cell_type": "code",
   "execution_count": 32,
   "metadata": {},
   "outputs": [
    {
     "name": "stdout",
     "output_type": "stream",
     "text": [
      "Episode 0\tLoss: 6.14\n"
     ]
    }
   ],
   "source": [
    "model = Policy(n_states, n_hidden, n_actions)\n",
    "optimizier = optim.Adam(model.parameters(), lr=1e-2)\n",
    "\n",
    "learner(model, optimizier, n_training_episodes=100)"
   ]
  },
  {
   "cell_type": "markdown",
   "metadata": {},
   "source": []
  },
  {
   "cell_type": "code",
   "execution_count": 33,
   "metadata": {},
   "outputs": [
    {
     "data": {
      "text/plain": [
       "(212.4, 92.88724347293336)"
      ]
     },
     "execution_count": 33,
     "metadata": {},
     "output_type": "execute_result"
    }
   ],
   "source": [
    "evaluate_agent(model, env, max_steps=1000, n_eval_episodes=10)"
   ]
  },
  {
   "cell_type": "code",
   "execution_count": null,
   "metadata": {},
   "outputs": [],
   "source": []
  }
 ],
 "metadata": {
  "kernelspec": {
   "display_name": "gym",
   "language": "python",
   "name": "python3"
  },
  "language_info": {
   "codemirror_mode": {
    "name": "ipython",
    "version": 3
   },
   "file_extension": ".py",
   "mimetype": "text/x-python",
   "name": "python",
   "nbconvert_exporter": "python",
   "pygments_lexer": "ipython3",
   "version": "3.8.15"
  },
  "orig_nbformat": 4,
  "vscode": {
   "interpreter": {
    "hash": "a51d2d6d25395c24e0d12246d2018dcbf7cbc51d78bb42126dff68c94d75ef25"
   }
  }
 },
 "nbformat": 4,
 "nbformat_minor": 2
}
