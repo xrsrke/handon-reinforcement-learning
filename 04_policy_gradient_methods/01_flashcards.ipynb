{
 "cells": [
  {
   "cell_type": "code",
   "execution_count": 1,
   "id": "1003bed7-86f4-4c73-aeee-e452b681c1c8",
   "metadata": {},
   "outputs": [],
   "source": [
    "import torch"
   ]
  },
  {
   "cell_type": "markdown",
   "id": "170334ec-6e8e-4932-b67c-8f5f88331617",
   "metadata": {},
   "source": [
    "##### Example 1"
   ]
  },
  {
   "cell_type": "code",
   "execution_count": 5,
   "id": "535d6ce6-4899-40e0-a0aa-6486b6c1df46",
   "metadata": {},
   "outputs": [],
   "source": [
    "rewards = torch.tensor([1, 2, 3, 4])"
   ]
  },
  {
   "cell_type": "code",
   "execution_count": 47,
   "id": "98c02128-319e-4325-bd34-44b951391c0a",
   "metadata": {},
   "outputs": [],
   "source": [
    "import torch"
   ]
  },
  {
   "cell_type": "markdown",
   "id": "ea5bc306-b8ae-4df7-a9f6-26bffaf1893b",
   "metadata": {},
   "source": [
    "Given `rewards` is the list of all predicted rewards from the current time step `0` to the next time step `3`"
   ]
  },
  {
   "cell_type": "code",
   "execution_count": 48,
   "id": "be86cd4c-f505-43fa-92ea-8b9b448ae291",
   "metadata": {},
   "outputs": [
    {
     "data": {
      "text/plain": [
       "tensor([1, 2, 3, 4])"
      ]
     },
     "execution_count": 48,
     "metadata": {},
     "output_type": "execute_result"
    }
   ],
   "source": [
    "rewards"
   ]
  },
  {
   "cell_type": "markdown",
   "id": "4255d0ca-e7e6-437f-b23e-19dd6362110c",
   "metadata": {},
   "source": [
    "Write a function to calcualte the discounted reward at each time step"
   ]
  },
  {
   "cell_type": "code",
   "execution_count": 49,
   "id": "a6af7de7-db88-4e12-8343-6a018adb3192",
   "metadata": {},
   "outputs": [],
   "source": [
    "discount_factor = 0.99"
   ]
  },
  {
   "cell_type": "code",
   "execution_count": 50,
   "id": "15e8f0b6-abcf-4e61-abcd-c23e16cde6ca",
   "metadata": {},
   "outputs": [],
   "source": [
    "def discount_reward(rewards, discount_factor):\n",
    "    n_rewards = len(rewards)\n",
    "    timesteps = torch.arange(0, n_rewards)\n",
    "    \n",
    "    # calculate the discount for each time step\n",
    "    discount = torch.pow(discount_factor, timesteps)\n",
    "    discounted_rewards = discount * rewards\n",
    "\n",
    "    return discounted_rewards"
   ]
  },
  {
   "cell_type": "code",
   "execution_count": 51,
   "id": "2bd486f3-4d62-47d7-a91c-420a80a8aedc",
   "metadata": {},
   "outputs": [
    {
     "data": {
      "text/plain": [
       "tensor([1.0000, 1.9800, 2.9403, 3.8812])"
      ]
     },
     "execution_count": 51,
     "metadata": {},
     "output_type": "execute_result"
    }
   ],
   "source": [
    "discount_reward(rewards, discount_factor)"
   ]
  },
  {
   "cell_type": "code",
   "execution_count": null,
   "id": "8c79b76f-c892-454b-a08c-43762ac739f8",
   "metadata": {},
   "outputs": [],
   "source": []
  },
  {
   "cell_type": "code",
   "execution_count": 38,
   "id": "ae68795b-1eb9-4396-8f49-0453fb2acc42",
   "metadata": {},
   "outputs": [
    {
     "data": {
      "text/plain": [
       "tensor([1.0000, 1.9800, 2.9403, 3.8812])"
      ]
     },
     "execution_count": 38,
     "metadata": {},
     "output_type": "execute_result"
    }
   ],
   "source": [
    "discount_reward(rewards, discount_factor)"
   ]
  },
  {
   "cell_type": "code",
   "execution_count": null,
   "id": "cc66c0f9-612a-4143-a4b0-db90d8c70cce",
   "metadata": {},
   "outputs": [],
   "source": []
  },
  {
   "cell_type": "code",
   "execution_count": null,
   "id": "4e0588f6-e53c-4697-9ae8-09d219be1a69",
   "metadata": {},
   "outputs": [],
   "source": []
  }
 ],
 "metadata": {
  "kernelspec": {
   "display_name": "Python 3 (ipykernel)",
   "language": "python",
   "name": "python3"
  },
  "language_info": {
   "codemirror_mode": {
    "name": "ipython",
    "version": 3
   },
   "file_extension": ".py",
   "mimetype": "text/x-python",
   "name": "python",
   "nbconvert_exporter": "python",
   "pygments_lexer": "ipython3",
   "version": "3.8.15"
  }
 },
 "nbformat": 4,
 "nbformat_minor": 5
}
