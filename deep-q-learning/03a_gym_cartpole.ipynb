{
 "cells": [
  {
   "cell_type": "code",
   "execution_count": 1,
   "metadata": {},
   "outputs": [],
   "source": [
    "import torch\n",
    "from torch import nn\n",
    "from torch import optim\n",
    "import gym\n",
    "import matplotlib.pyplot as plt"
   ]
  },
  {
   "cell_type": "code",
   "execution_count": 2,
   "metadata": {},
   "outputs": [],
   "source": [
    "class DeepQNetwork(nn.Module):\n",
    "    def __init__(self, n_observations, n_actions):\n",
    "        super().__init__()\n",
    "        self.model = nn.Sequential(\n",
    "            nn.Linear(n_observations, 128),\n",
    "            nn.ReLU(),\n",
    "            nn.Linear(128, 128),\n",
    "            nn.ReLU(),\n",
    "            nn.Linear(128, n_actions),\n",
    "        )\n",
    "    \n",
    "    def forward(self, x):\n",
    "        return self.model(x)"
   ]
  },
  {
   "cell_type": "code",
   "execution_count": 3,
   "metadata": {},
   "outputs": [],
   "source": [
    "# env = gym.make('LunarLander-v2')"
   ]
  },
  {
   "cell_type": "code",
   "execution_count": 4,
   "metadata": {},
   "outputs": [],
   "source": [
    "env = gym.make('CartPole-v1')\n",
    "n_actions = env.action_space.n\n",
    "n_observations = env.observation_space.shape[0]"
   ]
  },
  {
   "cell_type": "code",
   "execution_count": 5,
   "metadata": {},
   "outputs": [],
   "source": [
    "model = DeepQNetwork(n_observations=n_observations, n_actions=n_actions)\n",
    "loss_func = nn.MSELoss()\n",
    "optimizer = optim.Adam(model.parameters(), lr=1e-3)"
   ]
  },
  {
   "cell_type": "code",
   "execution_count": 6,
   "metadata": {},
   "outputs": [
    {
     "data": {
      "text/plain": [
       "DeepQNetwork(\n",
       "  (model): Sequential(\n",
       "    (0): Linear(in_features=4, out_features=128, bias=True)\n",
       "    (1): ReLU()\n",
       "    (2): Linear(in_features=128, out_features=128, bias=True)\n",
       "    (3): ReLU()\n",
       "    (4): Linear(in_features=128, out_features=2, bias=True)\n",
       "  )\n",
       ")"
      ]
     },
     "execution_count": 6,
     "metadata": {},
     "output_type": "execute_result"
    }
   ],
   "source": [
    "model"
   ]
  },
  {
   "cell_type": "code",
   "execution_count": 7,
   "metadata": {},
   "outputs": [
    {
     "data": {
      "text/plain": [
       "tensor([-0.1032,  0.0715], grad_fn=<AddBackward0>)"
      ]
     },
     "execution_count": 7,
     "metadata": {},
     "output_type": "execute_result"
    }
   ],
   "source": [
    "observation, _ = env.reset()\n",
    "observation = torch.from_numpy(observation)\n",
    "model(observation)"
   ]
  },
  {
   "cell_type": "code",
   "execution_count": 8,
   "metadata": {},
   "outputs": [],
   "source": [
    "num_episodes = 1000\n",
    "GAMMA = 0.9\n",
    "losses = []\n",
    "#rewards = torch.tensor([[] for _ in range(num_episodes)])"
   ]
  },
  {
   "cell_type": "code",
   "execution_count": 9,
   "metadata": {},
   "outputs": [],
   "source": [
    "for i_episode in range(num_episodes):\n",
    "    observation, _ = env.reset()\n",
    "    observation = torch.from_numpy(observation)\n",
    "    \n",
    "    in_progress = True\n",
    "    \n",
    "    while in_progress:\n",
    "                \n",
    "        predicted_reward = model(observation)\n",
    "        action = torch.argmax(predicted_reward, dim=-1).item()\n",
    "        new_observation, reward, done, truncated, info = env.step(action)\n",
    "        new_observation = torch.from_numpy(new_observation)\n",
    "    \n",
    "        if done == True:\n",
    "            in_progress = False\n",
    "            observation, _ = env.reset()\n",
    "        else:\n",
    "            predicted_next_reward = model(new_observation)\n",
    "        \n",
    "            max_predicted_next_reward = torch.max(predicted_next_reward, dim=-1)\n",
    "            target_reward = reward + GAMMA * max_predicted_next_reward[0]\n",
    "            loss = loss_func(target_reward, predicted_reward[action])\n",
    "\n",
    "            loss_np = loss.detach().numpy() # can be ignore\n",
    "            losses.append(loss_np)\n",
    "\n",
    "            loss.backward()\n",
    "            optimizer.step()\n",
    "            optimizer.zero_grad()\n",
    "\n",
    "            observation = new_observation"
   ]
  },
  {
   "cell_type": "code",
   "execution_count": 10,
   "metadata": {},
   "outputs": [
    {
     "data": {
      "image/png": "[encoded data removed]",
      "text/plain": [
       "<Figure size 640x480 with 1 Axes>"
      ]
     },
     "metadata": {},
     "output_type": "display_data"
    }
   ],
   "source": [
    "plt.plot(losses)\n",
    "plt.show()"
   ]
  },
  {
   "cell_type": "code",
   "execution_count": 11,
   "metadata": {},
   "outputs": [],
   "source": [
    "env.close()"
   ]
  },
  {
   "cell_type": "markdown",
   "metadata": {},
   "source": [
    "### Render"
   ]
  },
  {
   "cell_type": "code",
   "execution_count": 10,
   "metadata": {},
   "outputs": [],
   "source": [
    "env = gym.make('CartPole-v1', render_mode=\"human\")"
   ]
  },
  {
   "cell_type": "code",
   "execution_count": 10,
   "metadata": {},
   "outputs": [],
   "source": [
    "# env = gym.make('LunarLander-v2', render_mode=\"human\")"
   ]
  },
  {
   "cell_type": "code",
   "execution_count": 11,
   "metadata": {},
   "outputs": [],
   "source": [
    "done = False"
   ]
  },
  {
   "cell_type": "code",
   "execution_count": null,
   "metadata": {},
   "outputs": [],
   "source": [
    "for i_episode in range(1000):\n",
    "    observation, _ = env.reset()\n",
    "    observation = torch.from_numpy(observation)\n",
    "    \n",
    "    in_progress = True\n",
    "    \n",
    "    while not done:\n",
    "                \n",
    "        predicted_reward = model(observation)\n",
    "        action = torch.argmax(predicted_reward, dim=-1).item()\n",
    "        new_observation, reward, done, truncated, info = env.step(action)\n",
    "        # print(new_observation, reward, done, truncated, info)\n",
    "        # break\n",
    "        \n",
    "        observation = torch.from_numpy(new_observation)"
   ]
  },
  {
   "cell_type": "code",
   "execution_count": null,
   "metadata": {},
   "outputs": [],
   "source": [
    "env.close()"
   ]
  },
  {
   "cell_type": "markdown",
   "metadata": {},
   "source": [
    "### Render"
   ]
  },
  {
   "cell_type": "code",
   "execution_count": null,
   "metadata": {},
   "outputs": [],
   "source": []
  },
  {
   "cell_type": "code",
   "execution_count": 21,
   "metadata": {},
   "outputs": [],
   "source": [
    "# predicted_reward = model(observation)"
   ]
  },
  {
   "cell_type": "code",
   "execution_count": 22,
   "metadata": {},
   "outputs": [],
   "source": [
    "# predicted_reward"
   ]
  },
  {
   "cell_type": "code",
   "execution_count": 23,
   "metadata": {},
   "outputs": [],
   "source": [
    "# action = torch.argmax(predicted_reward, dim=-1).item()"
   ]
  },
  {
   "cell_type": "code",
   "execution_count": 24,
   "metadata": {},
   "outputs": [],
   "source": [
    "# action"
   ]
  },
  {
   "cell_type": "code",
   "execution_count": 16,
   "metadata": {},
   "outputs": [
    {
     "name": "stdout",
     "output_type": "stream",
     "text": [
      "t=0, reward=1.0, done=False\n",
      "t=1, reward=1.0, done=False\n",
      "t=2, reward=1.0, done=False\n",
      "t=3, reward=1.0, done=False\n",
      "t=4, reward=1.0, done=False\n",
      "t=5, reward=1.0, done=False\n",
      "t=6, reward=1.0, done=False\n",
      "t=7, reward=1.0, done=False\n",
      "t=8, reward=1.0, done=False\n",
      "t=9, reward=1.0, done=False\n",
      "t=10, reward=1.0, done=True\n"
     ]
    }
   ],
   "source": [
    "env = gym.make('CartPole-v1', render_mode=\"human\")\n",
    "observation, _ = env.reset()\n",
    "observation = torch.from_numpy(observation)\n",
    "\n",
    "for t in range(1000):\n",
    "    predicted_reward = model(observation)\n",
    "    action = torch.argmax(predicted_reward, dim=-1).item()\n",
    "\n",
    "    new_observation, reward, done, truncated, info = env.step(action)\n",
    "\n",
    "    env.render()\n",
    "    print(f\"t={t}, reward={reward}, done={done}\")\n",
    "\n",
    "    if done:\n",
    "        # observation, _ = env.reset()\n",
    "        # observation = torch.from_numpy(observation)\n",
    "        break\n",
    "    else:\n",
    "        observation = torch.from_numpy(new_observation)"
   ]
  },
  {
   "cell_type": "code",
   "execution_count": 26,
   "metadata": {},
   "outputs": [],
   "source": [
    "env.close()"
   ]
  },
  {
   "cell_type": "markdown",
   "metadata": {},
   "source": [
    "### Render 3"
   ]
  },
  {
   "cell_type": "code",
   "execution_count": 12,
   "metadata": {},
   "outputs": [
    {
     "name": "stdout",
     "output_type": "stream",
     "text": [
      "t=1, reward=1.0, done=False\n",
      "t=2, reward=1.0, done=False\n",
      "t=3, reward=1.0, done=False\n",
      "t=4, reward=1.0, done=False\n",
      "t=5, reward=1.0, done=False\n",
      "t=6, reward=1.0, done=False\n",
      "t=7, reward=1.0, done=False\n",
      "t=8, reward=1.0, done=False\n",
      "t=9, reward=1.0, done=True\n"
     ]
    }
   ],
   "source": [
    "env = gym.make('CartPole-v1', render_mode=\"human\")\n",
    "observation, _ = env.reset()\n",
    "observation = torch.from_numpy(observation)\n",
    "\n",
    "done = False\n",
    "t = 0\n",
    "while not done:\n",
    "    t += 1\n",
    "    predicted_reward = model(observation)\n",
    "    action = torch.argmax(predicted_reward, dim=-1).item()\n",
    "\n",
    "    new_observation, reward, done, truncated, info = env.step(action)\n",
    "\n",
    "    print(f\"t={t}, reward={reward}, done={done}\")\n",
    "\n",
    "    if not done:\n",
    "        observation = torch.from_numpy(new_observation)"
   ]
  },
  {
   "cell_type": "code",
   "execution_count": null,
   "metadata": {},
   "outputs": [],
   "source": []
  }
 ],
 "metadata": {
  "kernelspec": {
   "display_name": "Python 3 (ipykernel)",
   "language": "python",
   "name": "python3"
  },
  "language_info": {
   "codemirror_mode": {
    "name": "ipython",
    "version": 3
   },
   "file_extension": ".py",
   "mimetype": "text/x-python",
   "name": "python",
   "nbconvert_exporter": "python",
   "pygments_lexer": "ipython3",
   "version": "3.8.15"
  },
  "vscode": {
   "interpreter": {
    "hash": "a51d2d6d25395c24e0d12246d2018dcbf7cbc51d78bb42126dff68c94d75ef25"
   }
  }
 },
 "nbformat": 4,
 "nbformat_minor": 4
}
