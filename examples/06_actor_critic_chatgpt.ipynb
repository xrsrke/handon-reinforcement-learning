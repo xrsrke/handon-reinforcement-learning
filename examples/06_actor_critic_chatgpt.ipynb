{
 "cells": [
  {
   "cell_type": "code",
   "execution_count": 10,
   "metadata": {},
   "outputs": [],
   "source": [
    "import torch\n",
    "from torch import nn\n",
    "from torch import optim\n",
    "\n",
    "import torch.nn.functional as F\n",
    "import gymnasium as gym"
   ]
  },
  {
   "cell_type": "code",
   "execution_count": 49,
   "metadata": {},
   "outputs": [],
   "source": [
    "class Actor(nn.Module):\n",
    "    def __init__(self, n_observations, n_actions):\n",
    "        super().__init__()\n",
    "        self.layers = nn.Sequential(\n",
    "            nn.Linear(n_observations, 32),\n",
    "            nn.ReLU(),\n",
    "            nn.Linear(32, n_actions),\n",
    "            nn.Softmax(dim=-1),\n",
    "        )\n",
    "    \n",
    "    def forward(self, state):\n",
    "        return self.layers(state)"
   ]
  },
  {
   "cell_type": "code",
   "execution_count": 50,
   "metadata": {},
   "outputs": [],
   "source": [
    "class Critic(nn.Module):\n",
    "    def __init__(self, n_observations, n_actions):\n",
    "        super().__init__()\n",
    "        self.layers = nn.Sequential(\n",
    "            nn.Linear(n_observations + n_actions, 32),\n",
    "            nn.ReLU(),\n",
    "            nn.Linear(32, n_actions)\n",
    "        )\n",
    "    \n",
    "    def forward(self, state, action):\n",
    "        x = torch.cat([state, action], dim=1)\n",
    "        return self.layers(x)"
   ]
  },
  {
   "cell_type": "code",
   "execution_count": 59,
   "metadata": {},
   "outputs": [],
   "source": [
    "env = gym.make('CartPole-v1')\n",
    "n_observations = env.observation_space.shape[0]\n",
    "n_actions = env.action_space.n"
   ]
  },
  {
   "cell_type": "code",
   "execution_count": 60,
   "metadata": {},
   "outputs": [],
   "source": [
    "ACTOR_LR = 1e-3\n",
    "CRITIC_LR = 1e-3\n",
    "\n",
    "DISCOUNT_FACTOR = 0.99\n",
    "NOISE = 1.0\n",
    "\n",
    "MAX_EPISODES = 100\n",
    "MAX_STEPS = 100000"
   ]
  },
  {
   "cell_type": "code",
   "execution_count": 61,
   "metadata": {},
   "outputs": [],
   "source": [
    "actor_network = Actor(n_observations, n_actions)\n",
    "critic_network = Critic(n_observations, n_actions)\n",
    "\n",
    "actor_loss = nn.MSELoss()\n",
    "critic_loss = nn.MSELoss()\n",
    "\n",
    "actor_optim = optim.Adam(actor_network.parameters(), lr=ACTOR_LR)\n",
    "critic_optim = optim.Adam(critic_network.parameters(), lr=CRITIC_LR)"
   ]
  },
  {
   "attachments": {},
   "cell_type": "markdown",
   "metadata": {},
   "source": [
    "$\\text { target } \\mathrm{Q} \\text {-values }=\\text { reward }+\\gamma \\cdot \\max _{a^{\\prime}} Q\\left(s^{\\prime}, a^{\\prime}\\right)$\n",
    "\n",
    "where\n",
    "- target Q-value: the target Q-value for the current state-action pair\n",
    "- reward: the reward received for taking the action in the current state\n",
    "- $\\gamma$: the discount factor, which determines the importance of future rewards\n",
    "- $Q\\left(s^{\\prime}, a^{\\prime}\\right)$: s the Q-value of the action $a^{\\prime}$ in the next state $s^{\\prime}$\n",
    "- $\\max _{a^{\\prime}} Q\\left(s^{\\prime}, a^{\\prime}\\right)$: the maximum Q-value of all actions in the next state s′, which is predicted by the critic network."
   ]
  },
  {
   "cell_type": "markdown",
   "metadata": {},
   "source": []
  },
  {
   "cell_type": "markdown",
   "metadata": {},
   "source": []
  },
  {
   "cell_type": "markdown",
   "metadata": {},
   "source": []
  },
  {
   "cell_type": "code",
   "execution_count": 63,
   "metadata": {},
   "outputs": [
    {
     "ename": "RuntimeError",
     "evalue": "zero-dimensional tensor (at position 1) cannot be concatenated",
     "output_type": "error",
     "traceback": [
      "\u001b[0;31m---------------------------------------------------------------------------\u001b[0m",
      "\u001b[0;31mRuntimeError\u001b[0m                              Traceback (most recent call last)",
      "Cell \u001b[0;32mIn[63], line 13\u001b[0m\n\u001b[1;32m     10\u001b[0m next_state, reward, done, truncated, info \u001b[39m=\u001b[39m env\u001b[39m.\u001b[39mstep(action)\n\u001b[1;32m     11\u001b[0m next_state \u001b[39m=\u001b[39m torch\u001b[39m.\u001b[39mfrom_numpy(next_state)\n\u001b[0;32m---> 13\u001b[0m q_values \u001b[39m=\u001b[39m critic_network(state, torch\u001b[39m.\u001b[39;49mtensor(action))\n\u001b[1;32m     15\u001b[0m \u001b[39m# if done = True => 1 - done = 1 - 1 = 0 => there's no next state\u001b[39;00m\n\u001b[1;32m     16\u001b[0m \u001b[39m# if done = False => 1 - done = 1- 0 = 1 => there's a next state\u001b[39;00m\n\u001b[1;32m     17\u001b[0m predicted_next_action \u001b[39m=\u001b[39m actor_network(next_state)\n",
      "File \u001b[0;32m~/miniforge3/envs/gym/lib/python3.8/site-packages/torch/nn/modules/module.py:1190\u001b[0m, in \u001b[0;36mModule._call_impl\u001b[0;34m(self, *input, **kwargs)\u001b[0m\n\u001b[1;32m   1186\u001b[0m \u001b[39m# If we don't have any hooks, we want to skip the rest of the logic in\u001b[39;00m\n\u001b[1;32m   1187\u001b[0m \u001b[39m# this function, and just call forward.\u001b[39;00m\n\u001b[1;32m   1188\u001b[0m \u001b[39mif\u001b[39;00m \u001b[39mnot\u001b[39;00m (\u001b[39mself\u001b[39m\u001b[39m.\u001b[39m_backward_hooks \u001b[39mor\u001b[39;00m \u001b[39mself\u001b[39m\u001b[39m.\u001b[39m_forward_hooks \u001b[39mor\u001b[39;00m \u001b[39mself\u001b[39m\u001b[39m.\u001b[39m_forward_pre_hooks \u001b[39mor\u001b[39;00m _global_backward_hooks\n\u001b[1;32m   1189\u001b[0m         \u001b[39mor\u001b[39;00m _global_forward_hooks \u001b[39mor\u001b[39;00m _global_forward_pre_hooks):\n\u001b[0;32m-> 1190\u001b[0m     \u001b[39mreturn\u001b[39;00m forward_call(\u001b[39m*\u001b[39;49m\u001b[39minput\u001b[39;49m, \u001b[39m*\u001b[39;49m\u001b[39m*\u001b[39;49mkwargs)\n\u001b[1;32m   1191\u001b[0m \u001b[39m# Do not call functions when jit is used\u001b[39;00m\n\u001b[1;32m   1192\u001b[0m full_backward_hooks, non_full_backward_hooks \u001b[39m=\u001b[39m [], []\n",
      "Cell \u001b[0;32mIn[50], line 11\u001b[0m, in \u001b[0;36mCritic.forward\u001b[0;34m(self, state, action)\u001b[0m\n\u001b[1;32m     10\u001b[0m \u001b[39mdef\u001b[39;00m \u001b[39mforward\u001b[39m(\u001b[39mself\u001b[39m, state, action):\n\u001b[0;32m---> 11\u001b[0m     x \u001b[39m=\u001b[39m torch\u001b[39m.\u001b[39;49mcat([state, action], dim\u001b[39m=\u001b[39;49m\u001b[39m1\u001b[39;49m)\n\u001b[1;32m     12\u001b[0m     \u001b[39mreturn\u001b[39;00m \u001b[39mself\u001b[39m\u001b[39m.\u001b[39mlayers(x)\n",
      "\u001b[0;31mRuntimeError\u001b[0m: zero-dimensional tensor (at position 1) cannot be concatenated"
     ]
    }
   ],
   "source": [
    "for episode in range(MAX_EPISODES):\n",
    "    state, _ = env.reset()\n",
    "    state = torch.from_numpy(state)\n",
    "    episode_reward = 0\n",
    "    \n",
    "    for step in range(MAX_STEPS):\n",
    "        predicted_action = actor_network(state)\n",
    "        action = torch.argmax(predicted_action, dim=-1).item()\n",
    "        \n",
    "        next_state, reward, done, truncated, info = env.step(action)\n",
    "        next_state = torch.from_numpy(next_state)\n",
    "        \n",
    "        q_values = critic_network(state, torch.tensor(action))\n",
    "        \n",
    "        # if done = True => 1 - done = 1 - 1 = 0 => there's no next state\n",
    "        # if done = False => 1 - done = 1- 0 = 1 => there's a next state\n",
    "        predicted_next_action = actor_network(next_state)\n",
    "        next_action = torch.argmax(predicted_next_action, dim=-1).item()\n",
    "        predicted_next_value = critic_network(next_state, next_action)\n",
    "        max_predicted_next_value = torch.max(predicted_next_value, dim=-1)\n",
    "        \n",
    "        target_q_values = reward + (1 - done) * DISCOUNT_FACTOR * max_predicted_next_value\n",
    "        \n",
    "        critic_loss = critic_loss(q_values, target_q_values)\n",
    "        critic_optim.zero_grad()\n",
    "        critic_loss.backward()\n",
    "        critic_optim.step()\n",
    "        \n",
    "        actor_loss = actor_loss(action, q_values)\n",
    "        actor_optim.zero_grad()\n",
    "        actor_loss.backward()\n",
    "        actor_optim.step()\n",
    "        \n",
    "        state = next_state\n",
    "        episode_reward += reward\n",
    "        \n",
    "        if done:\n",
    "            break\n",
    "\n",
    "    print(f'Episode {episode}: {episode_reward}')"
   ]
  },
  {
   "cell_type": "code",
   "execution_count": null,
   "metadata": {},
   "outputs": [],
   "source": []
  },
  {
   "cell_type": "markdown",
   "metadata": {},
   "source": []
  }
 ],
 "metadata": {
  "kernelspec": {
   "display_name": "gym",
   "language": "python",
   "name": "python3"
  },
  "language_info": {
   "codemirror_mode": {
    "name": "ipython",
    "version": 3
   },
   "file_extension": ".py",
   "mimetype": "text/x-python",
   "name": "python",
   "nbconvert_exporter": "python",
   "pygments_lexer": "ipython3",
   "version": "3.8.15 | packaged by conda-forge | (default, Nov 22 2022, 08:49:06) \n[Clang 14.0.6 ]"
  },
  "orig_nbformat": 4,
  "vscode": {
   "interpreter": {
    "hash": "a51d2d6d25395c24e0d12246d2018dcbf7cbc51d78bb42126dff68c94d75ef25"
   }
  }
 },
 "nbformat": 4,
 "nbformat_minor": 2
}
