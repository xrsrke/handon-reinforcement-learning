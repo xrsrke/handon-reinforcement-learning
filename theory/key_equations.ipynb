{
 "cells": [
  {
   "cell_type": "code",
   "execution_count": 1,
   "metadata": {},
   "outputs": [],
   "source": [
    "import numpy"
   ]
  },
  {
   "cell_type": "markdown",
   "metadata": {},
   "source": [
    "# 1. Notations"
   ]
  },
  {
   "cell_type": "markdown",
   "metadata": {},
   "source": [
    "### **1.1 Trajectory**\n",
    "\n",
    "$\\tau$ (trajectory): a sequence of states and actions in the world\n",
    "    + $\\tau=\\left(s_0, a_0, s_1, a_1, \\ldots\\right)$"
   ]
  },
  {
   "cell_type": "markdown",
   "metadata": {},
   "source": [
    "### **1.2 Policy**\n",
    "- $a_t=\\mu\\left(s_t\\right)$: determistic policy\n",
    "- $a_t \\sim \\pi\\left(\\cdot \\mid s_t\\right)$: stochastic policy\n",
    "- $a_t \\sim \\pi_\\theta\\left(\\cdot \\mid s_t\\right)$: policy parametrized by $\\theta$\n",
    "- $\\pi^*$: optimal policy"
   ]
  },
  {
   "cell_type": "markdown",
   "metadata": {},
   "source": [
    "There're two most common kinds of stochastic policies in RL:\n",
    "- Categorical policy: sampling actions from the policy (`torch.distributions.Categorical`)\n",
    "- Diagonal Gaussian policy"
   ]
  },
  {
   "cell_type": "markdown",
   "metadata": {},
   "source": [
    "# 2. Key Equations"
   ]
  },
  {
   "cell_type": "markdown",
   "metadata": {},
   "source": [
    "The goal in RL is to select a policy which maximizes expected return when the agent acts according to it\n",
    "\n",
    "$\\pi^*=\\arg \\max _\\pi J(\\pi)$"
   ]
  },
  {
   "cell_type": "markdown",
   "metadata": {
    "tags": []
   },
   "source": [
    "### 2.1 Discounted Return"
   ]
  },
  {
   "cell_type": "markdown",
   "metadata": {},
   "source": [
    "**Undiscounted return**: the sum of rewards obtained that an agent collected when interacts with environment in an episode\n",
    "\n",
    "$R(\\tau)=\\sum_{t=0}^T r_t$"
   ]
  },
  {
   "cell_type": "markdown",
   "metadata": {},
   "source": [
    "**Discounted return**: the sum of all rewards ever obtained by the agent, but discounted by how far off in the future they’re obtained"
   ]
  },
  {
   "cell_type": "markdown",
   "metadata": {},
   "source": [
    "$R(\\tau)=\\sum_{t=0}^{\\infty} \\gamma^t r_t$"
   ]
  },
  {
   "cell_type": "markdown",
   "metadata": {},
   "source": [
    "**Expected return**: the average of all returns\n",
    "\n",
    "$J(\\pi)=\\int_\\tau P(\\tau \\mid \\pi) R(\\tau)=\\underset{\\tau \\sim \\pi}{\\mathrm{E}}[R(\\tau)]$"
   ]
  },
  {
   "cell_type": "markdown",
   "metadata": {},
   "source": [
    "### 2.2 Policy Gradient"
   ]
  },
  {
   "cell_type": "markdown",
   "metadata": {
    "tags": []
   },
   "source": [
    "##### Derivation for Basic Policy Gradient"
   ]
  },
  {
   "cell_type": "markdown",
   "metadata": {},
   "source": [
    "Expression in expectation form: $\\nabla_\\theta J\\left(\\pi_\\theta\\right)=\\nabla_\\theta \\underset{\\tau \\sim \\pi_\\theta}{\\mathrm{E}}[R(\\tau)]=\\underset{\\tau \\sim \\pi_\\theta}{\\mathrm{E}}\\left[\\nabla_\\theta \\log P(\\tau \\mid \\theta) R(\\tau)\\right]$"
   ]
  },
  {
   "cell_type": "markdown",
   "metadata": {},
   "source": [
    "Expression in grad-log-prob: $\\nabla_\\theta J\\left(\\pi_\\theta\\right)=\\underset{\\tau \\sim \\pi_\\theta}{\\mathrm{E}}\\left[\\sum_{t=0}^T \\nabla_\\theta \\log \\pi_\\theta\\left(a_t \\mid s_t\\right) R(\\tau)\\right]$"
   ]
  },
  {
   "cell_type": "markdown",
   "metadata": {},
   "source": [
    "### 2.3 Value Functions"
   ]
  },
  {
   "cell_type": "markdown",
   "metadata": {},
   "source": [
    "Value function: expected return if you start in that state, or state-action pair and then act according to a particular policy forever after"
   ]
  },
  {
   "cell_type": "markdown",
   "metadata": {},
   "source": [
    "Four main functions:\n",
    "\n",
    "**1. On-Policy Value Function**: the average return if you start in state $s$ and always act according to policy $\\pi$\n",
    "\n",
    "$V^\\pi(s)=\\underset{\\tau \\sim \\pi}{\\mathrm{E}}\\left[R(\\tau) \\mid s_0=s\\right]$\n",
    "\n",
    "\n",
    "**2. On-Policy Action-Value Function**: the average return if you start in state $s$, take an action $a$ and then follows the policy forever\n",
    "\n",
    "$Q^\\pi(s, a)=\\underset{\\tau \\sim \\pi}{\\mathrm{E}}\\left[R(\\tau) \\mid s_0=s, a_0=a\\right]$\n",
    "\n",
    "**3. Optimal Value Function**\n",
    "\n",
    "$V^*(s)=\\max _\\pi \\underset{\\tau \\sim \\pi}{\\mathrm{E}}\\left[R(\\tau) \\mid s_0=s\\right]$\n",
    "\n",
    "**4. Optimal Action-Value Function**\n",
    "\n",
    "$Q^*(s, a)=\\max _\\pi \\underset{\\tau \\sim \\pi}{\\mathrm{E}}\\left[R(\\tau) \\mid s_0=s, a_0=a\\right]$"
   ]
  },
  {
   "cell_type": "markdown",
   "metadata": {},
   "source": [
    "Key connections bet"
   ]
  },
  {
   "cell_type": "markdown",
   "metadata": {},
   "source": [
    "### 2.4 Bellman Equations"
   ]
  },
  {
   "cell_type": "markdown",
   "metadata": {},
   "source": [
    "The Bellman equations for the on-policy value functions are\n",
    "\n",
    "$V^\\pi(s)=\\underset{\\substack{a \\sim \\sim \\pi \\\\ s^{\\prime} \\sim P}}{\\mathrm{E}}\\left[r(s, a)+\\gamma V^\\pi\\left(s^{\\prime}\\right)\\right]$\n",
    "\n",
    "\n"
   ]
  },
  {
   "cell_type": "markdown",
   "metadata": {},
   "source": [
    "### 2.5 Advantage Functions"
   ]
  },
  {
   "cell_type": "markdown",
   "metadata": {},
   "source": [
    "$A^\\pi(s, a)=Q^\\pi(s, a)-V^\\pi(s)$"
   ]
  },
  {
   "cell_type": "code",
   "execution_count": null,
   "metadata": {},
   "outputs": [],
   "source": []
  }
 ],
 "metadata": {
  "kernelspec": {
   "display_name": "gym",
   "language": "python",
   "name": "python3"
  },
  "language_info": {
   "codemirror_mode": {
    "name": "ipython",
    "version": 3
   },
   "file_extension": ".py",
   "mimetype": "text/x-python",
   "name": "python",
   "nbconvert_exporter": "python",
   "pygments_lexer": "ipython3",
   "version": "3.8.15 | packaged by conda-forge | (default, Nov 22 2022, 08:49:06) \n[Clang 14.0.6 ]"
  },
  "vscode": {
   "interpreter": {
    "hash": "a51d2d6d25395c24e0d12246d2018dcbf7cbc51d78bb42126dff68c94d75ef25"
   }
  }
 },
 "nbformat": 4,
 "nbformat_minor": 4
}
