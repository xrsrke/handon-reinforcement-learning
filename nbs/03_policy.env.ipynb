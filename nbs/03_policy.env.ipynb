{
 "cells": [
  {
   "attachments": {},
   "cell_type": "markdown",
   "metadata": {},
   "source": [
    "# Rewards\n",
    "\n",
    "> Fill in a module description here"
   ]
  },
  {
   "cell_type": "code",
   "execution_count": 1,
   "metadata": {},
   "outputs": [],
   "source": [
    "#| default_exp nn.policy.env"
   ]
  },
  {
   "cell_type": "code",
   "execution_count": 2,
   "metadata": {},
   "outputs": [],
   "source": [
    "#| hide\n",
    "from nbdev.showdoc import *"
   ]
  },
  {
   "cell_type": "code",
   "execution_count": 3,
   "metadata": {},
   "outputs": [],
   "source": [
    "#| hide\n",
    "import nbdev; nbdev.nbdev_export()"
   ]
  },
  {
   "cell_type": "code",
   "execution_count": 4,
   "metadata": {},
   "outputs": [],
   "source": [
    "#| export\n",
    "import torch"
   ]
  },
  {
   "cell_type": "code",
   "execution_count": 5,
   "metadata": {},
   "outputs": [],
   "source": [
    "#| export\n",
    "def extract_transitions(transitions):\n",
    "    states, actions, rewards = [], [], []\n",
    "    \n",
    "    for transition in transitions:\n",
    "        state, action, reward = transition\n",
    "        states.append(state)\n",
    "        actions.append(action)\n",
    "        rewards.append(reward)\n",
    "    \n",
    "    return states, actions, rewards"
   ]
  },
  {
   "cell_type": "code",
   "execution_count": 6,
   "metadata": {},
   "outputs": [],
   "source": [
    "#| export\n",
    "def generate_transitions(model, env):\n",
    "    transitions = []\n",
    "    state, _ = env.reset()\n",
    "    \n",
    "    MAX_DURATION  = 200\n",
    "    \n",
    "    t = 0\n",
    "    episode_reward = 0\n",
    "    \n",
    "    while True:\n",
    "    # for t in range(MAX_DUR)\n",
    "        predicted_action = model(torch.from_numpy(state))\n",
    "        # action = torch.argmax(predicted_action, dim=-1)\n",
    "        action = torch.multinomial(predicted_action, num_samples=1).item()\n",
    "        \n",
    "        # next_state, reward, done, info = env.step(action.item())\n",
    "        next_state, reward, done, truncated, info = env.step(action)\n",
    "        \n",
    "        # Accumulate the reward\n",
    "        episode_reward += reward\n",
    "        transitions.append((\n",
    "            # state, action, reward, next_state\n",
    "            state, action, episode_reward\n",
    "        ))\n",
    "        \n",
    "        if done: break\n",
    "        \n",
    "        state = next_state\n",
    "    \n",
    "    return transitions"
   ]
  },
  {
   "cell_type": "code",
   "execution_count": null,
   "metadata": {},
   "outputs": [],
   "source": []
  }
 ],
 "metadata": {
  "kernelspec": {
   "display_name": "gym",
   "language": "python",
   "name": "python3"
  },
  "language_info": {
   "codemirror_mode": {
    "name": "ipython",
    "version": 3
   },
   "file_extension": ".py",
   "mimetype": "text/x-python",
   "name": "python",
   "nbconvert_exporter": "python",
   "pygments_lexer": "ipython3",
   "version": "3.8.15"
  },
  "orig_nbformat": 4,
  "vscode": {
   "interpreter": {
    "hash": "a51d2d6d25395c24e0d12246d2018dcbf7cbc51d78bb42126dff68c94d75ef25"
   }
  }
 },
 "nbformat": 4,
 "nbformat_minor": 2
}
