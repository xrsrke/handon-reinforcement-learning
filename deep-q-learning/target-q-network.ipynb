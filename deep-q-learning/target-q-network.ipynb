{
 "cells": [
  {
   "cell_type": "code",
   "execution_count": 43,
   "metadata": {},
   "outputs": [],
   "source": [
    "import collections\n",
    "import random\n",
    "import copy\n",
    "\n",
    "from matplotlib import pylab as plt\n",
    "import torch\n",
    "from torch import nn\n",
    "from torch import optim\n",
    "\n",
    "from gridworld.Gridworld import Gridworld"
   ]
  },
  {
   "cell_type": "code",
   "execution_count": 45,
   "metadata": {},
   "outputs": [],
   "source": [
    "EPOCHS = 250\n",
    "MEM_SIZE = 1000\n",
    "BATCH_SIZE = 200\n",
    "MAX_MOVES = 50\n",
    "EPSILON = 0.2\n",
    "GAMMA = 0.9\n",
    "EPSILON = 0.3"
   ]
  },
  {
   "cell_type": "code",
   "execution_count": 46,
   "metadata": {},
   "outputs": [],
   "source": [
    "h = 0\n",
    "sync_freq = 500\n",
    "j = 0\n",
    "losses = []\n",
    "replay = collections.deque(maxlen=MEM_SIZE)"
   ]
  },
  {
   "cell_type": "code",
   "execution_count": 47,
   "metadata": {},
   "outputs": [
    {
     "data": {
      "text/plain": [
       "<All keys matched successfully>"
      ]
     },
     "execution_count": 47,
     "metadata": {},
     "output_type": "execute_result"
    }
   ],
   "source": [
    "n_pixels = 64\n",
    "hidden_1 = 150\n",
    "hidden_2 = 100\n",
    "n_actions = 4\n",
    "\n",
    "regular_model = nn.Sequential(\n",
    "    nn.Linear(n_pixels, hidden_1),\n",
    "    nn.ReLU(),\n",
    "    nn.Linear(hidden_1, hidden_2),\n",
    "    nn.ReLU(),\n",
    "    nn.Linear(hidden_2, n_actions)\n",
    ")\n",
    "\n",
    "target_model = copy.deepcopy(regular_model)\n",
    "target_model.load_state_dict(regular_model.state_dict())"
   ]
  },
  {
   "cell_type": "code",
   "execution_count": 48,
   "metadata": {},
   "outputs": [],
   "source": [
    "loss_func = nn.MSELoss()\n",
    "learning_rate = 1e-3\n",
    "optimizier = optim.Adam(regular_model.parameters(), lr=learning_rate)"
   ]
  },
  {
   "cell_type": "code",
   "execution_count": 49,
   "metadata": {},
   "outputs": [],
   "source": [
    "action_set = {\n",
    "    0: 'u',\n",
    "    1: 'd',\n",
    "    2: 'l',\n",
    "    3: 'r'\n",
    "}"
   ]
  },
  {
   "cell_type": "code",
   "execution_count": 50,
   "metadata": {},
   "outputs": [],
   "source": [
    "for i in range(EPOCHS):\n",
    "    game = Gridworld(size=4, mode='random')\n",
    "    \n",
    "    noise = torch.randn(1, 64) / 100.\n",
    "    state = game.board.render_np().reshape(1, 64)\n",
    "    state = torch.from_numpy(state) + noise\n",
    "    \n",
    "    is_in_progress = True\n",
    "    move = 0\n",
    "    \n",
    "    while is_in_progress:\n",
    "        j += 1\n",
    "        move += 1\n",
    "        predicted_reward = regular_model(state)\n",
    "        \n",
    "        if (random.random() < EPSILON):\n",
    "            action_idx = torch.randint(0, 4, (1, )).item()\n",
    "        else:\n",
    "            action_idx = torch.argmax(predicted_reward).item()\n",
    "        \n",
    "        action = action_set[action_idx]\n",
    "        game.makeMove(action)\n",
    "        \n",
    "        new_noise = torch.randn(1, 64) / 100.\n",
    "        new_state = game.board.render_np().reshape(1, 64)\n",
    "        new_state = torch.from_numpy(new_state) + new_noise\n",
    "        \n",
    "        reward = game.reward()\n",
    "        \n",
    "        is_done = True if reward > 0 else False\n",
    "        exp = (state, action_idx, reward, new_state, is_done)\n",
    "        replay.append(exp)\n",
    "        state = new_state\n",
    "        \n",
    "        if len(replay) > BATCH_SIZE:\n",
    "            mini_batch = random.sample(replay, BATCH_SIZE)\n",
    "            \n",
    "            state_batch = torch.cat([state for (state, action_idx, reward, new_state, is_done) in mini_batch])\n",
    "            action_batch = torch.tensor([action_idx for (state, action_idx, reward, new_state, is_done) in mini_batch])\n",
    "            reward_batch = torch.tensor([reward for (state, action_idx, reward, new_state, is_done) in mini_batch])\n",
    "            new_state_batch = torch.cat([new_state for (state, action_idx, reward, new_state, is_done) in mini_batch])\n",
    "            is_done_batch = torch.tensor([is_done for (state, action_idx, reward, new_state, is_done) in mini_batch])\n",
    "            \n",
    "            regular_replay_predicted_reward = regular_model(state_batch)\n",
    "            \n",
    "            with torch.no_grad():\n",
    "                target_replay_predicted_reward = target_model(state_batch)\n",
    "            \n",
    "            target_reward = reward_batch + GAMMA * ((1-is_done_batch.int()) * torch.max(target_replay_predicted_reward, dim=-1)[0])\n",
    "            current_predicted_reward = regular_replay_predicted_reward.gather(dim=-1, index=action_batch.long().unsqueeze(dim=-1)).squeeze()\n",
    "            \n",
    "            loss = loss_func(current_predicted_reward, target_reward)\n",
    "            losses.append(loss.item())\n",
    "            \n",
    "            optimizier.zero_grad()\n",
    "            loss.backward()\n",
    "            optimizier.step()\n",
    "            \n",
    "            if j % sync_freq == 0:\n",
    "                target_model.load_state_dict(regular_model.state_dict())\n",
    "        if reward != -1 or move > MAX_MOVES:\n",
    "            is_in_progress = False\n",
    "            move = 0"
   ]
  },
  {
   "cell_type": "code",
   "execution_count": 51,
   "metadata": {},
   "outputs": [
    {
     "data": {
      "text/plain": [
       "0"
      ]
     },
     "execution_count": 51,
     "metadata": {},
     "output_type": "execute_result"
    }
   ],
   "source": [
    "torch.randint(0, 4, (1, )).item()"
   ]
  },
  {
   "cell_type": "code",
   "execution_count": 52,
   "metadata": {},
   "outputs": [
    {
     "data": {
      "image/png": "[encoded data removed]",
      "text/plain": [
       "<Figure size 640x480 with 1 Axes>"
      ]
     },
     "metadata": {},
     "output_type": "display_data"
    }
   ],
   "source": [
    "plt.plot(losses)\n",
    "plt.show()"
   ]
  },
  {
   "cell_type": "code",
   "execution_count": null,
   "metadata": {},
   "outputs": [],
   "source": []
  }
 ],
 "metadata": {
  "kernelspec": {
   "display_name": "gym",
   "language": "python",
   "name": "python3"
  },
  "language_info": {
   "codemirror_mode": {
    "name": "ipython",
    "version": 3
   },
   "file_extension": ".py",
   "mimetype": "text/x-python",
   "name": "python",
   "nbconvert_exporter": "python",
   "pygments_lexer": "ipython3",
   "version": "3.8.15 | packaged by conda-forge | (default, Nov 22 2022, 08:49:06) \n[Clang 14.0.6 ]"
  },
  "orig_nbformat": 4,
  "vscode": {
   "interpreter": {
    "hash": "a51d2d6d25395c24e0d12246d2018dcbf7cbc51d78bb42126dff68c94d75ef25"
   }
  }
 },
 "nbformat": 4,
 "nbformat_minor": 2
}
