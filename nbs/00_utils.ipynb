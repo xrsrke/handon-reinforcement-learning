{
 "cells": [
  {
   "attachments": {},
   "cell_type": "markdown",
   "metadata": {},
   "source": [
    "# utils\n",
    "\n",
    "> Fill in a module description here"
   ]
  },
  {
   "cell_type": "code",
   "execution_count": null,
   "metadata": {},
   "outputs": [],
   "source": [
    "#| default_exp utils"
   ]
  },
  {
   "cell_type": "code",
   "execution_count": null,
   "metadata": {},
   "outputs": [],
   "source": [
    "#| hide\n",
    "from nbdev.showdoc import *"
   ]
  },
  {
   "cell_type": "code",
   "execution_count": null,
   "metadata": {},
   "outputs": [],
   "source": [
    "#| hide\n",
    "import nbdev; nbdev.nbdev_export()"
   ]
  },
  {
   "cell_type": "code",
   "execution_count": null,
   "metadata": {},
   "outputs": [],
   "source": [
    "#| export\n",
    "import torch\n",
    "import gym\n",
    "from tqdm import tqdm\n",
    "import matplotlib.pyplot as plt"
   ]
  },
  {
   "cell_type": "code",
   "execution_count": null,
   "metadata": {},
   "outputs": [],
   "source": [
    "#| export\n",
    "def plot(data, xlabel, ylabel):\n",
    "    plt.plot(data)\n",
    "    plt.xlabel('Epochs')\n",
    "    plt.ylabel('Loss')\n",
    "    plt.show()"
   ]
  },
  {
   "attachments": {},
   "cell_type": "markdown",
   "metadata": {},
   "source": [
    "### Policy Network"
   ]
  },
  {
   "cell_type": "code",
   "execution_count": null,
   "metadata": {},
   "outputs": [],
   "source": [
    "#| export\n",
    "def evaluate_policy_agent(env, model, n_episodes):\n",
    "    episode_rewards = []\n",
    "    t = 0\n",
    "    \n",
    "    for episode in tqdm(range(n_episodes)):\n",
    "        state, _ = env.reset()\n",
    "        state = torch.from_numpy(state)\n",
    "        \n",
    "        total_rewards_ep = 0\n",
    "        \n",
    "        while True:\n",
    "            predicted_action = model(state)           \n",
    "            action = torch.argmax(predicted_action, dim=-1)\n",
    "            \n",
    "            new_state, reward, done, truncated, info = env.step(action.item())\n",
    "            total_rewards_ep += reward\n",
    "\n",
    "            if done: break\n",
    "            t += 1\n",
    "            if t > 500: break\n",
    "        \n",
    "            state = torch.from_numpy(new_state)\n",
    "            \n",
    "        episode_rewards.append(total_rewards_ep)\n",
    "    \n",
    "    episode_rewards = torch.tensor(episode_rewards)\n",
    "    mean_reward = torch.mean(episode_rewards)\n",
    "    std_reward = torch.std(episode_rewards)\n",
    "    \n",
    "    return mean_reward, std_reward"
   ]
  },
  {
   "cell_type": "code",
   "execution_count": null,
   "metadata": {},
   "outputs": [],
   "source": [
    "#| export\n",
    "def simulate_policy_agent(env_id, model):\n",
    "    \n",
    "\n",
    "    env = gym.make(env_id, render_mode=\"human\")\n",
    "    observation, _ = env.reset()\n",
    "    observation = torch.from_numpy(observation)\n",
    "\n",
    "    done = False\n",
    "    t = 0\n",
    "    while not done:\n",
    "        t += 1\n",
    "        predicted_reward = model(observation)\n",
    "        action = torch.argmax(predicted_reward, dim=-1).item()\n",
    "\n",
    "        new_observation, reward, done, truncated, info = env.step(action)\n",
    "\n",
    "        print(f\"t={t}, reward={reward}, done={done}\")\n",
    "\n",
    "        if not done:\n",
    "            observation = torch.from_numpy(new_observation)"
   ]
  },
  {
   "cell_type": "code",
   "execution_count": null,
   "metadata": {},
   "outputs": [],
   "source": []
  }
 ],
 "metadata": {
  "kernelspec": {
   "display_name": "gym",
   "language": "python",
   "name": "python3"
  }
 },
 "nbformat": 4,
 "nbformat_minor": 2
}
