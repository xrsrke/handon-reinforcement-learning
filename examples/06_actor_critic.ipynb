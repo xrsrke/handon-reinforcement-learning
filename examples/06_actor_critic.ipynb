{
 "cells": [
  {
   "cell_type": "code",
   "execution_count": 4,
   "metadata": {},
   "outputs": [],
   "source": [
    "import torch\n",
    "from torch import nn\n",
    "from torch import optim\n",
    "\n",
    "import torch.nn.functional as F\n",
    "import gym"
   ]
  },
  {
   "cell_type": "code",
   "execution_count": 2,
   "metadata": {},
   "outputs": [],
   "source": [
    "class ActorCritic(nn.Module):\n",
    "    def __init__(self, n_observations, n_actions):\n",
    "        # self.l1 = nn.Linear(n_states, 25)\n",
    "        # self.l2 = nn.Linear(25, 50)\n",
    "        # self.actor_lin1 = nn.Linear(50, 2)\n",
    "        # self.l3 = nn.Linear(50, 25)\n",
    "        # self.critic_lin1 = nn.Linear(25, 1)\n",
    "        \n",
    "        self.actor = nn.Sequential(\n",
    "            nn.Linear(n_observations, 25),\n",
    "            nn.ReLU(),\n",
    "            nn.Linear(25, n_actions),\n",
    "            nn.ReLU(),\n",
    "            nn.LogSoftmax(dim=-1)\n",
    "        )\n",
    "        \n",
    "        self.critic = nn.Sequential(\n",
    "            nn.Linear(n_observations, 25),\n",
    "            nn.ReLU(),\n",
    "            nn.Linear(25, n_actions),\n",
    "            nn.ReLU(),\n",
    "            nn.Linear(50,25),\n",
    "            nn.ReLU(),\n",
    "            nn.Tanh()\n",
    "        )\n",
    "    \n",
    "    def forward(self, x):\n",
    "        x = F.normalize(x, dim=0)\n",
    "        actor = self.actor(x)\n",
    "        critic = self.critic(x)\n",
    "        \n",
    "        return actor, critic"
   ]
  },
  {
   "cell_type": "markdown",
   "metadata": {},
   "source": []
  },
  {
   "cell_type": "code",
   "execution_count": null,
   "metadata": {},
   "outputs": [],
   "source": [
    "def run_episode(worker_env, worker_model):\n",
    "    state = torch.from_numpy(worker_env.env.state).float()\n",
    "    values, log_probs, rewards = [], [], []\n",
    "    \n",
    "    done = False\n",
    "    j = 0\n",
    "    while (done == False):\n",
    "        j += 1"
   ]
  },
  {
   "cell_type": "code",
   "execution_count": null,
   "metadata": {},
   "outputs": [],
   "source": [
    "def worker(t, worker_model, counter, params):\n",
    "    worker_env = gym.make(\"CartPole-v1\")\n",
    "    worker_env.reset()\n",
    "    worker_optim = optim.Adam(worker_model.parameters(), lr=1e-4)\n",
    "    worker_optim.zero_grad()\n",
    "    \n",
    "    for i in range(params[\"epochs\"]):\n",
    "        worker_optim.zero_grad()\n",
    "        values, log_probs, rewards = run_episode(worker_env, worker_model)"
   ]
  }
 ],
 "metadata": {
  "kernelspec": {
   "display_name": "gym",
   "language": "python",
   "name": "python3"
  },
  "language_info": {
   "codemirror_mode": {
    "name": "ipython",
    "version": 3
   },
   "file_extension": ".py",
   "mimetype": "text/x-python",
   "name": "python",
   "nbconvert_exporter": "python",
   "pygments_lexer": "ipython3",
   "version": "3.8.15 | packaged by conda-forge | (default, Nov 22 2022, 08:49:06) \n[Clang 14.0.6 ]"
  },
  "orig_nbformat": 4,
  "vscode": {
   "interpreter": {
    "hash": "a51d2d6d25395c24e0d12246d2018dcbf7cbc51d78bb42126dff68c94d75ef25"
   }
  }
 },
 "nbformat": 4,
 "nbformat_minor": 2
}
