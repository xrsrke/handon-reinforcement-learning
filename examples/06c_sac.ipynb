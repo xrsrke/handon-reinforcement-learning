{
 "cells": [
  {
   "cell_type": "code",
   "execution_count": 1,
   "metadata": {},
   "outputs": [],
   "source": [
    "import torch\n",
    "from torch import nn\n",
    "from torch import optim\n",
    "import torch.nn.functional as F\n",
    "from torch.distributions.normal import Normal\n",
    "\n",
    "from octopus.replay_buffer import ReplayBuffer"
   ]
  },
  {
   "cell_type": "code",
   "execution_count": 3,
   "metadata": {},
   "outputs": [],
   "source": [
    "class ActorNetwork(nn.Module):\n",
    "    def __init__(self, n_observations, n_actions, max_action, fc1_dim=256, fc2_dim=256):\n",
    "        super().__init__()\n",
    "        self.reparam_noise = 1e-6\n",
    "        self.max_action = max_action\n",
    "        \n",
    "        self.layers = nn.Sequential(\n",
    "            nn.Linear(n_observations, fc1_dim),\n",
    "            nn.ReLU(),\n",
    "            nn.Linear(fc1_dim, fc2_dim),\n",
    "            nn.ReLU(),\n",
    "        )\n",
    "        \n",
    "        self.mu = nn.Linear(fc2_dim, n_actions)\n",
    "        self.sigma = nn.Linear(fc2_dim, n_actions)\n",
    "    \n",
    "    def forward(self, state):\n",
    "        prob = self.layers(state)\n",
    "        \n",
    "        # mean of distribution\n",
    "        mu = self.mu(state)\n",
    "        \n",
    "        # standard deviation of distribution\n",
    "        sigma = self.sigma(state)\n",
    "        sigma = torch.clamp(sigma, min=self.reparam_noise, max=1)\n",
    "\n",
    "        return mu, sigma\n",
    "\n",
    "    def sample_normal(self, state, reparametrize=True):\n",
    "        mu, sigma = self.forward(state)\n",
    "        probs = Normal(mu, sigma)\n",
    "        \n",
    "        if reparametrize:\n",
    "            # do reparametrize trick\n",
    "            # add some noise to the acton!\n",
    "            actions = probs.rsample()\n",
    "        else:\n",
    "            actions = probs.sample()\n",
    "        \n",
    "        # scales the values of actions to the range [-self.max_action, self.max_action]\n",
    "        actions = torch.tanh(actions) * self.max_action\n",
    "        \n",
    "        log_probs = probs.log_prob(actions)\n",
    "        \n",
    "        # come from the paper's appendix\n",
    "        # c. Enforcing Action Bounds\n",
    "        log_probs -= torch.log(1 - actions.pow(2) + self.reparam_noise)\n",
    "        log_probs = log_probs.sum(1, keepdim=True)\n",
    "        \n",
    "        return actions, log_probs"
   ]
  },
  {
   "cell_type": "code",
   "execution_count": null,
   "metadata": {},
   "outputs": [],
   "source": []
  }
 ],
 "metadata": {
  "kernelspec": {
   "display_name": "gym",
   "language": "python",
   "name": "python3"
  },
  "language_info": {
   "codemirror_mode": {
    "name": "ipython",
    "version": 3
   },
   "file_extension": ".py",
   "mimetype": "text/x-python",
   "name": "python",
   "nbconvert_exporter": "python",
   "pygments_lexer": "ipython3",
   "version": "3.8.15 | packaged by conda-forge | (default, Nov 22 2022, 08:49:06) \n[Clang 14.0.6 ]"
  },
  "orig_nbformat": 4,
  "vscode": {
   "interpreter": {
    "hash": "a51d2d6d25395c24e0d12246d2018dcbf7cbc51d78bb42126dff68c94d75ef25"
   }
  }
 },
 "nbformat": 4,
 "nbformat_minor": 2
}
