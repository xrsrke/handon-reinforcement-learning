{
 "cells": [
  {
   "cell_type": "markdown",
   "id": "2c734389",
   "metadata": {},
   "source": [
    "##### Example 1"
   ]
  },
  {
   "cell_type": "code",
   "execution_count": 32,
   "id": "66632238",
   "metadata": {},
   "outputs": [],
   "source": [
    "import torch"
   ]
  },
  {
   "cell_type": "code",
   "execution_count": 33,
   "id": "f6d8c410",
   "metadata": {},
   "outputs": [],
   "source": [
    "q_function = torch.nn.Linear(in_features=10, out_features=4)"
   ]
  },
  {
   "cell_type": "code",
   "execution_count": 45,
   "id": "7c5e1a6d",
   "metadata": {},
   "outputs": [],
   "source": [
    "states = torch.randn(10)"
   ]
  },
  {
   "cell_type": "code",
   "execution_count": 46,
   "id": "449f1695",
   "metadata": {},
   "outputs": [
    {
     "data": {
      "text/plain": [
       "tensor([ 0.1748, -0.8958,  0.9211, -1.4953,  0.4668,  0.0672, -1.1070, -0.1796,\n",
       "         1.7084, -3.1310])"
      ]
     },
     "execution_count": 46,
     "metadata": {},
     "output_type": "execute_result"
    }
   ],
   "source": [
    "states"
   ]
  },
  {
   "cell_type": "markdown",
   "id": "7fb16e02",
   "metadata": {},
   "source": [
    "Given `states` are states that agent observes. And `q_function` is a q-function"
   ]
  },
  {
   "cell_type": "code",
   "execution_count": 47,
   "id": "bf1d8cbd",
   "metadata": {
    "scrolled": true
   },
   "outputs": [
    {
     "data": {
      "text/plain": [
       "Linear(in_features=10, out_features=4, bias=True)"
      ]
     },
     "execution_count": 47,
     "metadata": {},
     "output_type": "execute_result"
    }
   ],
   "source": [
    "q_function"
   ]
  },
  {
   "cell_type": "markdown",
   "id": "d1773cc3",
   "metadata": {},
   "source": [
    "Write a function that convert the predicted q-values to a probability distribution"
   ]
  },
  {
   "cell_type": "markdown",
   "id": "4228ffab",
   "metadata": {},
   "source": [
    "**Hint**: $\\pi_{\\text {new }}=\\arg \\min _{\\pi^{\\prime} \\in \\Pi} D_{\\mathrm{KL}}\\left(\\pi^{\\prime}\\left(\\cdot \\mid \\mathbf{s}_t\\right) \\| \\frac{\\exp \\left(Q^{\\pi_{\\mathrm{old}}}\\left(\\mathbf{s}_t, \\cdot\\right)\\right)}{Z^{\\pi_{\\mathrm{old}}}\\left(\\mathbf{s}_t\\right)}\\right)$"
   ]
  },
  {
   "cell_type": "code",
   "execution_count": 48,
   "id": "09b231cf",
   "metadata": {},
   "outputs": [],
   "source": [
    "def convert_to_distribution(states):\n",
    "    q_values = q_function(states)\n",
    "    \n",
    "    # convert real number to positive numbers\n",
    "    q_values = q_values.exp()\n",
    "    \n",
    "    # normalize\n",
    "    z = q_values.sum(-1)\n",
    "    \n",
    "    return q_values / z"
   ]
  },
  {
   "cell_type": "code",
   "execution_count": 49,
   "id": "0a37c10e",
   "metadata": {},
   "outputs": [],
   "source": [
    "probs = convert_to_distribution(states)"
   ]
  },
  {
   "cell_type": "code",
   "execution_count": 50,
   "id": "141fcd9f",
   "metadata": {},
   "outputs": [
    {
     "data": {
      "text/plain": [
       "tensor([0.2066, 0.6185, 0.0391, 0.1358], grad_fn=<DivBackward0>)"
      ]
     },
     "execution_count": 50,
     "metadata": {},
     "output_type": "execute_result"
    }
   ],
   "source": [
    "probs"
   ]
  },
  {
   "cell_type": "code",
   "execution_count": 51,
   "id": "0f7fe1d5",
   "metadata": {},
   "outputs": [
    {
     "data": {
      "text/plain": [
       "tensor(1., grad_fn=<SumBackward0>)"
      ]
     },
     "execution_count": 51,
     "metadata": {},
     "output_type": "execute_result"
    }
   ],
   "source": [
    "probs.sum()"
   ]
  },
  {
   "cell_type": "code",
   "execution_count": null,
   "id": "26e37a65",
   "metadata": {},
   "outputs": [],
   "source": []
  }
 ],
 "metadata": {
  "kernelspec": {
   "display_name": "Python 3 (ipykernel)",
   "language": "python",
   "name": "python3"
  },
  "language_info": {
   "codemirror_mode": {
    "name": "ipython",
    "version": 3
   },
   "file_extension": ".py",
   "mimetype": "text/x-python",
   "name": "python",
   "nbconvert_exporter": "python",
   "pygments_lexer": "ipython3",
   "version": "3.8.15"
  }
 },
 "nbformat": 4,
 "nbformat_minor": 5
}
