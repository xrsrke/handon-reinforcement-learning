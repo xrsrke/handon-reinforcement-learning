{
 "cells": [
  {
   "cell_type": "code",
   "execution_count": null,
   "metadata": {},
   "outputs": [],
   "source": []
  },
  {
   "cell_type": "markdown",
   "metadata": {},
   "source": [
    "# Notations"
   ]
  },
  {
   "cell_type": "markdown",
   "metadata": {},
   "source": [
    "**State**\n",
    "\n",
    "$\\rho_0$: the starting state distribution\n",
    "\n",
    "$s^{\\prime}$: the next state of state $s$"
   ]
  },
  {
   "cell_type": "markdown",
   "metadata": {},
   "source": [
    "**Trajectory**\n",
    "\n",
    "$\\tau$ (trajectory): a sequence of states and actions in the world\n",
    "    + $\\tau=\\left(s_0, a_0, s_1, a_1, \\ldots\\right)$"
   ]
  },
  {
   "cell_type": "markdown",
   "metadata": {},
   "source": [
    "**Policy**\n",
    "- $a_t=\\mu\\left(s_t\\right)$: determistic policy\n",
    "- $a_t \\sim \\pi\\left(\\cdot \\mid s_t\\right)$: stochastic policy\n",
    "- $a_t \\sim \\pi_\\theta\\left(\\cdot \\mid s_t\\right)$: policy parametrized by $\\theta$\n",
    "- $\\pi^*$: optimal policy"
   ]
  },
  {
   "cell_type": "markdown",
   "metadata": {},
   "source": [
    "There're two most common kinds of stochastic policies in RL:\n",
    "- Categorical policy: sampling actions from the policy (`torch.distributions.Categorical`)\n",
    "- Diagonal Gaussian policy"
   ]
  },
  {
   "cell_type": "markdown",
   "metadata": {},
   "source": []
  },
  {
   "cell_type": "markdown",
   "metadata": {},
   "source": []
  },
  {
   "cell_type": "code",
   "execution_count": null,
   "metadata": {},
   "outputs": [],
   "source": []
  },
  {
   "cell_type": "markdown",
   "metadata": {},
   "source": [
    "# Key Equations"
   ]
  },
  {
   "cell_type": "markdown",
   "metadata": {},
   "source": [
    "The goal in RL is to select a policy which maximizes expected return when the agent acts according to it\n",
    "\n",
    "$\\pi^*=\\arg \\max _\\pi J(\\pi)$"
   ]
  },
  {
   "cell_type": "markdown",
   "metadata": {},
   "source": [
    "### 1. Discounted Return"
   ]
  },
  {
   "cell_type": "markdown",
   "metadata": {},
   "source": [
    "**Undiscounted return**: the sum of rewards obtained that an agent collected when interacts with environment in an episode\n",
    "\n",
    "$R(\\tau)=\\sum_{t=0}^T r_t$"
   ]
  },
  {
   "cell_type": "markdown",
   "metadata": {},
   "source": [
    "**Discounted return**: the sum of all rewards ever obtained by the agent, but discounted by how far off in the future they’re obtained"
   ]
  },
  {
   "cell_type": "markdown",
   "metadata": {},
   "source": [
    "$R(\\tau)=\\sum_{t=0}^{\\infty} \\gamma^t r_t$"
   ]
  },
  {
   "cell_type": "markdown",
   "metadata": {},
   "source": [
    "**Expected return**: the average of all returns\n",
    "\n",
    "$J(\\pi)=\\int_\\tau P(\\tau \\mid \\pi) R(\\tau)=\\underset{\\tau \\sim \\pi}{\\mathrm{E}}[R(\\tau)]$"
   ]
  },
  {
   "cell_type": "markdown",
   "metadata": {},
   "source": [
    "### 2. Value Functions"
   ]
  },
  {
   "cell_type": "markdown",
   "metadata": {},
   "source": [
    "Value function: expected return if you start in that state, or state-action pair and then act according to a particular policy forever after"
   ]
  },
  {
   "cell_type": "markdown",
   "metadata": {},
   "source": [
    "Four main functions:\n",
    "\n",
    "[1]. **On-Policy Value Function**: the average return if you start in state $s$ and always act according to policy $\\pi$\n",
    "\n",
    "\n",
    "$V^\\pi(s)=\\underset{\\tau \\sim \\pi}{\\mathrm{E}}\\left[R(\\tau) \\mid s_0=s\\right]$\n",
    "\n",
    "[2]. **On-Policy Action-Value Function** - $Q^\\pi(s, a)$: the average return if you start in state $s$, take an action $a$ and then follows the policy forever\n",
    "\n",
    "$Q^\\pi(s, a)=\\underset{\\tau \\sim \\pi}{\\mathrm{E}}\\left[R(\\tau) \\mid s_0=s, a_0=a\\right]$\n",
    "\n",
    "[3]. Optimal Value Function\n",
    "\n",
    "[4]. Optimal Action-Value Function"
   ]
  },
  {
   "cell_type": "markdown",
   "metadata": {},
   "source": [
    "### 3. Bellman Equations"
   ]
  },
  {
   "cell_type": "markdown",
   "metadata": {},
   "source": [
    "The Bellman equations for the on-policy value functions are\n",
    "\n",
    "$V^\\pi(s)=\\underset{\\substack{a \\sim \\sim \\pi \\\\ s^{\\prime} \\sim P}}{\\mathrm{E}}\\left[r(s, a)+\\gamma V^\\pi\\left(s^{\\prime}\\right)\\right]$\n",
    "\n",
    "$Q^\\pi(s, a)=\\underset{s^{\\prime} \\sim P}{\\mathrm{E}}\\left[r(s, a)+\\gamma \\underset{a^{\\prime} \\sim \\pi}{\\mathrm{E}}\\left[Q^\\pi\\left(s^{\\prime}, a^{\\prime}\\right)\\right]\\right]$"
   ]
  },
  {
   "cell_type": "markdown",
   "metadata": {},
   "source": [
    "### Advantage Functions"
   ]
  },
  {
   "cell_type": "markdown",
   "metadata": {},
   "source": [
    "Measure how good if take action $a$ in state $s$ relative to the average return of state $s$"
   ]
  },
  {
   "cell_type": "markdown",
   "metadata": {},
   "source": [
    "$A^\\pi(s, a)=Q^\\pi(s, a)-V^\\pi(s)$"
   ]
  },
  {
   "cell_type": "markdown",
   "metadata": {},
   "source": [
    "#### Examples "
   ]
  },
  {
   "cell_type": "markdown",
   "metadata": {},
   "source": [
    "### 5. Policy Gradient"
   ]
  },
  {
   "cell_type": "markdown",
   "metadata": {},
   "source": [
    "Goal: the goal of policy gradient algorihm is maximize the average return"
   ]
  },
  {
   "cell_type": "markdown",
   "metadata": {},
   "source": [
    "##### Probability of a  Trajectory\n",
    "\n",
    "$P(\\tau \\mid \\theta)=\\rho_0\\left(s_0\\right) \\prod_{t=0}^T P\\left(s_{t+1} \\mid s_t, a_t\\right) \\pi_\\theta\\left(a_t \\mid s_t\\right)$"
   ]
  },
  {
   "cell_type": "markdown",
   "metadata": {},
   "source": [
    "##### **Policy Gradient**"
   ]
  },
  {
   "attachments": {},
   "cell_type": "markdown",
   "metadata": {},
   "source": [
    "$\\nabla_\\theta J\\left(\\pi_\\theta\\right) = \\underset{\\tau \\sim \\pi_\\theta}{\\mathrm{E}}\\left[\\nabla_\\theta \\log P(\\tau \\mid \\theta) R(\\tau)\\right]$"
   ]
  },
  {
   "cell_type": "code",
   "execution_count": null,
   "metadata": {},
   "outputs": [],
   "source": []
  }
 ],
 "metadata": {
  "kernelspec": {
   "display_name": "Python 3 (ipykernel)",
   "language": "python",
   "name": "python3"
  },
  "language_info": {
   "codemirror_mode": {
    "name": "ipython",
    "version": 3
   },
   "file_extension": ".py",
   "mimetype": "text/x-python",
   "name": "python",
   "nbconvert_exporter": "python",
   "pygments_lexer": "ipython3",
   "version": "3.8.15"
  }
 },
 "nbformat": 4,
 "nbformat_minor": 2
}
