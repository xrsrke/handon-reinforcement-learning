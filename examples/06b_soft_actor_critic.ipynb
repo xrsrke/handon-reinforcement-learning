{
 "cells": [
  {
   "cell_type": "code",
   "execution_count": 10,
   "metadata": {},
   "outputs": [],
   "source": [
    "import torch\n",
    "from torch import nn\n",
    "from torch import optim\n",
    "import torch.nn.functional as F\n",
    "from torch.distributions.normal import Normal"
   ]
  },
  {
   "cell_type": "code",
   "execution_count": 2,
   "metadata": {},
   "outputs": [],
   "source": [
    "class CriticNetwork(nn.Module):\n",
    "    def __init__(\n",
    "        self,\n",
    "        n_observations, n_actions,\n",
    "        fc1_dim=256, fc2_dim=256\n",
    "    ):\n",
    "        super().__init__()\n",
    "        self.layers = nn.Sequential(\n",
    "            nn.Linear(n_observations[0] + n_actions, fc1_dim),\n",
    "            nn.ReLU(),\n",
    "            nn.Linear(fc1_dim, fc2_dim),\n",
    "            nn.ReLU(),\n",
    "            nn.Linear(fc2_dim, 1),\n",
    "        )\n",
    "    \n",
    "    def forward(self, state, action):\n",
    "        input = torch.cat([state, action], dim=1)\n",
    "        return self.layers(input)"
   ]
  },
  {
   "cell_type": "code",
   "execution_count": 3,
   "metadata": {},
   "outputs": [],
   "source": [
    "class ValueNetwork(nn.Module):\n",
    "    def __init__(self, n_observations, fc1_dim, fc2_dim):\n",
    "        super().__init__()\n",
    "        self.layers = nn.Sequential(\n",
    "            nn.Linear(n_observations, fc1_dim),\n",
    "            nn.ReLU(),\n",
    "            nn.Linear(fc1_dim, fc2_dim),\n",
    "            nn.ReLU(),\n",
    "            nn.Linear(fc2_dim, 1)\n",
    "        )\n",
    "    \n",
    "    def forward(self, state):\n",
    "        return self.layers(state)"
   ]
  },
  {
   "cell_type": "code",
   "execution_count": 11,
   "metadata": {},
   "outputs": [],
   "source": [
    "class ActorNetwork(nn.Module):\n",
    "    def __init__(self, n_observations, n_actions, max_action, fc1_dim=256, fc2_dim=256):\n",
    "        super().__init__()\n",
    "        self.reparam_noise = 1e-6\n",
    "        self.max_action = max_action\n",
    "        \n",
    "        self.layers = nn.Sequential(\n",
    "            nn.Linear(n_observations, fc1_dim),\n",
    "            nn.ReLU(),\n",
    "            nn.Linear(fc1_dim, fc2_dim),\n",
    "            nn.ReLU(),\n",
    "        )\n",
    "        \n",
    "        self.mu = nn.Linear(fc2_dim, n_actions)\n",
    "        self.sigma = nn.Linear(fc2_dim, n_actions)\n",
    "    \n",
    "    def forward(self, state):\n",
    "        prob = self.layers(state)\n",
    "        \n",
    "        mu = self.mu(state)\n",
    "        sigma = self.sigma(state)\n",
    "        sigma = torch.clamp(sigma, min=self.reparam_noise, max=1)\n",
    "\n",
    "        return mu, sigma\n",
    "\n",
    "    def sample_norm(self, state, reparametrize=True):\n",
    "        mu, sigma = self.forward(state)\n",
    "        probs = Normal()\n",
    "        \n",
    "        if reparametrize:\n",
    "            actions = probs.rsample()\n",
    "        else:\n",
    "            actions = probs.sample()\n",
    "        \n",
    "        action = torch.tanh(actions) * self.max_action\n",
    "        log_probs = probs.log_prob(actions)"
   ]
  },
  {
   "cell_type": "code",
   "execution_count": 6,
   "metadata": {},
   "outputs": [],
   "source": [
    "CRITIC_LEARNING_RATE = 1e-3\n",
    "VALUE_LEARNING_RATE = 1e-3\n",
    "ACTOR_LEARNING_RATE = 1e-3"
   ]
  },
  {
   "cell_type": "code",
   "execution_count": 7,
   "metadata": {},
   "outputs": [
    {
     "ename": "TypeError",
     "evalue": "__init__() missing 2 required positional arguments: 'n_observations' and 'n_actions'",
     "output_type": "error",
     "traceback": [
      "\u001b[0;31m---------------------------------------------------------------------------\u001b[0m",
      "\u001b[0;31mTypeError\u001b[0m                                 Traceback (most recent call last)",
      "Cell \u001b[0;32mIn[7], line 1\u001b[0m\n\u001b[0;32m----> 1\u001b[0m critic_network \u001b[39m=\u001b[39m CriticNetwork()\n\u001b[1;32m      2\u001b[0m value_network \u001b[39m=\u001b[39m ValueNetwork()\n\u001b[1;32m      3\u001b[0m actor_network \u001b[39m=\u001b[39m ActorNetwork()\n",
      "\u001b[0;31mTypeError\u001b[0m: __init__() missing 2 required positional arguments: 'n_observations' and 'n_actions'"
     ]
    }
   ],
   "source": [
    "critic_network = CriticNetwork()\n",
    "value_network = ValueNetwork()\n",
    "actor_network = ActorNetwork()"
   ]
  },
  {
   "cell_type": "code",
   "execution_count": 18,
   "metadata": {},
   "outputs": [
    {
     "ename": "NameError",
     "evalue": "name 'critic_network' is not defined",
     "output_type": "error",
     "traceback": [
      "\u001b[0;31m---------------------------------------------------------------------------\u001b[0m",
      "\u001b[0;31mNameError\u001b[0m                                 Traceback (most recent call last)",
      "Cell \u001b[0;32mIn[18], line 1\u001b[0m\n\u001b[0;32m----> 1\u001b[0m critic_optimizier \u001b[39m=\u001b[39m optim\u001b[39m.\u001b[39mAdam(critic_network\u001b[39m.\u001b[39mparameters(), lr\u001b[39m=\u001b[39mCRITIC_LEARNING_RATE)\n",
      "\u001b[0;31mNameError\u001b[0m: name 'critic_network' is not defined"
     ]
    }
   ],
   "source": [
    "critic_optimizier = optim.Adam(critic_network.parameters(), lr=CRITIC_LEARNING_RATE)\n",
    "value_optimizier = optim.Adam(value_network.parameters(), lr=VALUE_LEARNING_RATE)\n",
    "actor_optimizier = optim.Adam(actor_network.parameters(), lr=ACTOR_LEARNING_RATE)"
   ]
  },
  {
   "cell_type": "code",
   "execution_count": 21,
   "metadata": {},
   "outputs": [],
   "source": [
    "#https://youtu.be/ioidsRlf79o?t=1230"
   ]
  },
  {
   "cell_type": "code",
   "execution_count": null,
   "metadata": {},
   "outputs": [],
   "source": []
  }
 ],
 "metadata": {
  "kernelspec": {
   "display_name": "gym",
   "language": "python",
   "name": "python3"
  },
  "language_info": {
   "codemirror_mode": {
    "name": "ipython",
    "version": 3
   },
   "file_extension": ".py",
   "mimetype": "text/x-python",
   "name": "python",
   "nbconvert_exporter": "python",
   "pygments_lexer": "ipython3",
   "version": "3.8.15"
  },
  "orig_nbformat": 4,
  "vscode": {
   "interpreter": {
    "hash": "a51d2d6d25395c24e0d12246d2018dcbf7cbc51d78bb42126dff68c94d75ef25"
   }
  }
 },
 "nbformat": 4,
 "nbformat_minor": 2
}
