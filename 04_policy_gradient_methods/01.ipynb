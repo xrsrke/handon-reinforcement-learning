{
 "cells": [
  {
   "cell_type": "code",
   "execution_count": 1,
   "metadata": {},
   "outputs": [],
   "source": [
    "import torch\n",
    "from torch import nn\n",
    "from torch import optim\n",
    "import gym\n",
    "from tqdm import tqdm\n",
    "from torch.utils.tensorboard import SummaryWriter\n",
    "\n",
    "from octopus.nn.policy.rewards import discount_rewards, calculate_discounted_return_an_episode\n",
    "from octopus.nn.policy.loss import loss_func\n",
    "from octopus.nn.policy.env import extract_transitions, generate_transitions\n",
    "from octopus.utils import evaluate_policy_agent, simulate_policy_agent"
   ]
  },
  {
   "cell_type": "code",
   "execution_count": 2,
   "metadata": {},
   "outputs": [],
   "source": [
    "writer = SummaryWriter(log_dir=\"../runs/deep_policy\")"
   ]
  },
  {
   "cell_type": "code",
   "execution_count": 3,
   "metadata": {},
   "outputs": [],
   "source": [
    "class DeepPolicy(nn.Module):\n",
    "    def __init__(self, n_observations, n_actions, hidden_size):\n",
    "        super().__init__()\n",
    "        self.layers = nn.Sequential(\n",
    "            nn.Linear(n_observations, hidden_size),\n",
    "            nn.LeakyReLU(),\n",
    "            # nn.Dropout(),\n",
    "            # nn.Linear(hidden_size, hidden_size),\n",
    "            # nn.ReLU(),\n",
    "            # nn.Dropout(),\n",
    "            nn.Linear(hidden_size, n_actions),\n",
    "            nn.Softmax(dim=0)\n",
    "        )\n",
    "    \n",
    "    def forward(self, x):\n",
    "        return self.layers(x)"
   ]
  },
  {
   "attachments": {},
   "cell_type": "markdown",
   "metadata": {},
   "source": [
    "### Training Loop"
   ]
  },
  {
   "cell_type": "code",
   "execution_count": 4,
   "metadata": {},
   "outputs": [],
   "source": [
    "env_id = \"CartPole-v1\""
   ]
  },
  {
   "cell_type": "code",
   "execution_count": 5,
   "metadata": {},
   "outputs": [],
   "source": [
    "LEARNING_RATE = 0.009\n",
    "HIDDE_SIZE = 150\n",
    "\n",
    "env = gym.make(env_id)\n",
    "n_actions = env.action_space.n\n",
    "n_observations = env.observation_space.shape[0]\n"
   ]
  },
  {
   "cell_type": "code",
   "execution_count": 6,
   "metadata": {},
   "outputs": [],
   "source": [
    "model = DeepPolicy(n_observations, n_actions, HIDDE_SIZE)\n",
    "optimizier = optim.Adam(model.parameters(), lr=LEARNING_RATE)"
   ]
  },
  {
   "cell_type": "code",
   "execution_count": 11,
   "metadata": {},
   "outputs": [
    {
     "name": "stderr",
     "output_type": "stream",
     "text": [
      "  1%|          | 3/400 [01:06<1:55:13, 17.41s/it]"
     ]
    }
   ],
   "source": [
    "N_EPISODE = 400\n",
    "DISCOUNT_FACTOR = 0.99\n",
    "\n",
    "losses = []\n",
    "epsiode_len = []\n",
    "\n",
    "for episode in tqdm(range(N_EPISODE)):\n",
    "    transitions = generate_transitions(model=model, env=env)\n",
    "\n",
    "    states, actions, rewards = extract_transitions(transitions)\n",
    "        \n",
    "    # convert to torch tensor\n",
    "    states = torch.tensor(states)\n",
    "    rewards = torch.tensor(rewards).flip(dims=(0,))\n",
    "    \n",
    "    # discounted_rewards = discount_rewards(rewards, discount_factor=DISCOUNT_FACTOR)\n",
    "    discounted_return = calculate_discounted_return_an_episode(rewards, discount_factor=DISCOUNT_FACTOR)\n",
    "    discounted_return = torch.tensor([discounted_return]).squeeze()\n",
    "    \n",
    "    # make prediction over a batch of states\n",
    "    predicted_actions = model(states)\n",
    "    selected_actions = predicted_actions[range(len(predicted_actions)), actions]\n",
    "    \n",
    "    loss = loss_func(selected_actions, discounted_return)\n",
    "    losses.append(loss.detach().numpy())\n",
    "    \n",
    "    writer.add_scalar(\"episode loss\", loss.detach().numpy(), episode)\n",
    "    writer.add_scalar(\"episode length\", len(transitions), episode)\n",
    "    \n",
    "    optimizier.zero_grad()\n",
    "    loss.backward()\n",
    "    optimizier.step()"
   ]
  },
  {
   "cell_type": "code",
   "execution_count": 11,
   "metadata": {},
   "outputs": [],
   "source": [
    "arr = torch.arange(10)"
   ]
  },
  {
   "cell_type": "code",
   "execution_count": 12,
   "metadata": {},
   "outputs": [
    {
     "data": {
      "text/plain": [
       "tensor([9, 8, 7, 6, 5, 4, 3, 2, 1, 0])"
      ]
     },
     "execution_count": 12,
     "metadata": {},
     "output_type": "execute_result"
    }
   ],
   "source": [
    "arr.flip(dims=(0,))"
   ]
  },
  {
   "attachments": {},
   "cell_type": "markdown",
   "metadata": {},
   "source": [
    "### Evaluate Agent"
   ]
  },
  {
   "cell_type": "code",
   "execution_count": 10,
   "metadata": {},
   "outputs": [
    {
     "name": "stderr",
     "output_type": "stream",
     "text": [
      "100%|██████████| 1/1 [00:00<00:00, 47.74it/s]\n"
     ]
    },
    {
     "data": {
      "text/plain": [
       "(tensor(501.), tensor(nan))"
      ]
     },
     "execution_count": 10,
     "metadata": {},
     "output_type": "execute_result"
    }
   ],
   "source": [
    "mean_reward, std_reward = evaluate_policy_agent(env, model, 1)\n",
    "mean_reward, std_reward"
   ]
  },
  {
   "cell_type": "code",
   "execution_count": 9,
   "metadata": {},
   "outputs": [],
   "source": [
    "# simulate_policy_agent(env_id=env_id, model=model)\n",
    "\n",
    "# wrong discount_return: mean_reward = 501"
   ]
  },
  {
   "attachments": {},
   "cell_type": "markdown",
   "metadata": {},
   "source": [
    "### Upload to HuggingFace"
   ]
  },
  {
   "cell_type": "code",
   "execution_count": 45,
   "metadata": {},
   "outputs": [],
   "source": [
    "# from huggingface_hub import notebook_login\n",
    "# from huggingface_sb3 import package_to_hub"
   ]
  },
  {
   "cell_type": "code",
   "execution_count": 46,
   "metadata": {},
   "outputs": [],
   "source": [
    "# import gym\n",
    "# from stable_baselines3.common.vec_env import DummyVecEnv\n",
    "# from stable_baselines3.common.env_util import make_vec_env\n",
    "\n",
    "# from huggingface_sb3 import package_to_hub\n",
    "\n",
    "# ## TODO: Define a repo_id\n",
    "# ## repo_id is the id of the model repository from the Hugging Face Hub (repo_id = {organization}/{repo_name} for instance ThomasSimonini/ppo-LunarLander-v2\n",
    "# repo_id = \"cartpole-vanila-policy-gradient\"\n",
    "\n",
    "# # TODO: Define the name of the environment\n",
    "# env_id = \"CartPole-v1\"\n",
    "\n",
    "# # Create the evaluation env\n",
    "# eval_env = DummyVecEnv([lambda: gym.make(env_id)])\n",
    "\n",
    "\n",
    "# # TODO: Define the model architecture we used\n",
    "# model_architecture = \"Policy Gradient\"\n",
    "\n",
    "# ## TODO: Define the commit message\n",
    "# commit_message = \"Beat you all\"\n",
    "\n",
    "# # method save, evaluate, generate a model card and record a replay video of your agent before pushing the repo to the hub\n",
    "# package_to_hub(model=model, # Our trained model\n",
    "#                model_name=\"cartpole-vanila-policy-gradient\", # The name of our trained model \n",
    "#                model_architecture=model_architecture, # The model architecture we used: in our case PPO\n",
    "#                env_id=env_id, # Name of the environment\n",
    "#                eval_env=eval_env, # Evaluation Environment\n",
    "#                repo_id=repo_id, # id of the model repository from the Hugging Face Hub (repo_id = {organization}/{repo_name} for instance ThomasSimonini/ppo-LunarLander-v2\n",
    "#                commit_message=commit_message)\n",
    "\n",
    "# # Note: if after running the package_to_hub function and it gives an issue of rebasing, please run the following code\n",
    "# # cd <path_to_repo> && git add . && git commit -m \"Add message\" && git pull \n",
    "# # And don't forget to do a \"git push\" at the end to push the change to the hub."
   ]
  },
  {
   "cell_type": "markdown",
   "metadata": {},
   "source": []
  }
 ],
 "metadata": {
  "kernelspec": {
   "display_name": "gym",
   "language": "python",
   "name": "python3"
  },
  "language_info": {
   "codemirror_mode": {
    "name": "ipython",
    "version": 3
   },
   "file_extension": ".py",
   "mimetype": "text/x-python",
   "name": "python",
   "nbconvert_exporter": "python",
   "pygments_lexer": "ipython3",
   "version": "3.8.15"
  },
  "orig_nbformat": 4,
  "vscode": {
   "interpreter": {
    "hash": "a51d2d6d25395c24e0d12246d2018dcbf7cbc51d78bb42126dff68c94d75ef25"
   }
  }
 },
 "nbformat": 4,
 "nbformat_minor": 2
}
