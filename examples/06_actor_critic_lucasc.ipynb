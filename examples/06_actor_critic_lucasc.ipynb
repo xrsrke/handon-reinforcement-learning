{
 "cells": [
  {
   "attachments": {},
   "cell_type": "markdown",
   "metadata": {},
   "source": [
    "Source: https://github.com/Lucasc-99/Actor-Critic"
   ]
  },
  {
   "cell_type": "code",
   "execution_count": 13,
   "metadata": {},
   "outputs": [],
   "source": [
    "from typing import List\n",
    "\n",
    "import torch\n",
    "from torch import nn\n",
    "from torch import optim\n",
    "from torch.distributions import Categorical\n",
    "import gym\n",
    "\n",
    "from octopus.policy.reward import calculate_discounted_return_each_timestep, calculate_advantages"
   ]
  },
  {
   "cell_type": "code",
   "execution_count": 14,
   "metadata": {},
   "outputs": [],
   "source": [
    "class ActorNet(nn.Module):\n",
    "    def __init__(self, n_observations, n_actions, hidden_size):\n",
    "        super().__init__()\n",
    "        self.layers = nn.Sequential(\n",
    "            nn.Linear(n_observations, hidden_size),\n",
    "            nn.ReLU(),\n",
    "            nn.Linear(hidden_size, n_actions),\n",
    "            nn.Softmax(dim=-1)\n",
    "        )\n",
    "    \n",
    "    def forward(self, state):\n",
    "        return self.layers(state)"
   ]
  },
  {
   "cell_type": "code",
   "execution_count": 15,
   "metadata": {},
   "outputs": [],
   "source": [
    "class CriticNet(nn.Module):\n",
    "    def __init__(self, n_observations, n_actions, hidden_size):\n",
    "        super().__init__()\n",
    "        self.layers = nn.Sequential(\n",
    "            nn.Linear(n_observations, hidden_size),\n",
    "            nn.ReLU(),\n",
    "            nn.Linear(hidden_size, 1)\n",
    "        )\n",
    "    \n",
    "    def forward(self, state):\n",
    "        return self.layers(state)"
   ]
  },
  {
   "cell_type": "code",
   "execution_count": 4,
   "metadata": {},
   "outputs": [],
   "source": [
    "# class A2C(nn.Module):\n",
    "#     def __init__(self, n_observations, n_actions, hidden_size):\n",
    "#         super().__init__()\n",
    "#         self.actor = nn.Sequential(\n",
    "#             nn.Linear(n_observations, hidden_size),\n",
    "#             nn.ReLU(),\n",
    "#             nn.Linear(hidden_size, n_actions),\n",
    "#             nn.Softmax(dim=-1)\n",
    "#         )\n",
    "        \n",
    "#         self.critic = nn.Sequential(\n",
    "#             nn.Linear(n_observations, hidden_size),\n",
    "#             nn.ReLU(),\n",
    "#             nn.Linear(hidden_size, 1)\n",
    "#         )\n",
    "    \n",
    "#     def forward(self, state):\n",
    "#         pred_action = self.actor(state)\n",
    "#         pred_value = self.critic(state)\n",
    "        \n",
    "#         return pred_action, pred_value"
   ]
  },
  {
   "cell_type": "code",
   "execution_count": null,
   "metadata": {},
   "outputs": [],
   "source": [
    "model"
   ]
  },
  {
   "cell_type": "code",
   "execution_count": null,
   "metadata": {},
   "outputs": [],
   "source": [
    "config = dict (\n",
    "    learning_rate = 0.01,\n",
    "    momentum = 0.2,\n",
    "    architecture = \"CNN\",\n",
    "    dataset_id = \"peds-0192\",\n",
    "    infra = \"AWS\",\n",
    ")"
   ]
  },
  {
   "cell_type": "code",
   "execution_count": 5,
   "metadata": {},
   "outputs": [],
   "source": [
    "gym_id = \"CartPole-v1\"\n",
    "exp_name = \"A2C\"\n",
    "seed = 42"
   ]
  },
  {
   "cell_type": "code",
   "execution_count": 6,
   "metadata": {},
   "outputs": [
    {
     "name": "stderr",
     "output_type": "stream",
     "text": [
      "\u001b[34m\u001b[1mwandb\u001b[0m: Currently logged in as: \u001b[33mxariusdrake\u001b[0m. Use \u001b[1m`wandb login --relogin`\u001b[0m to force relogin\n"
     ]
    },
    {
     "data": {
      "application/vnd.jupyter.widget-view+json": {
       "model_id": "36d049431d104ee09694d43f96d6c8f8",
       "version_major": 2,
       "version_minor": 0
      },
      "text/plain": [
       "VBox(children=(Label(value='Waiting for wandb.init()...\\r'), FloatProgress(value=0.016751202083333302, max=1.0…"
      ]
     },
     "metadata": {},
     "output_type": "display_data"
    },
    {
     "data": {
      "text/html": [
       "Tracking run with wandb version 0.13.7"
      ],
      "text/plain": [
       "<IPython.core.display.HTML object>"
      ]
     },
     "metadata": {},
     "output_type": "display_data"
    },
    {
     "data": {
      "text/html": [
       "Run data is saved locally in <code>/Users/education/DATA/projects/ai/reinforcement-learning/reinforcement-learning/examples/wandb/run-20221224_123110-3jewyw8g</code>"
      ],
      "text/plain": [
       "<IPython.core.display.HTML object>"
      ]
     },
     "metadata": {},
     "output_type": "display_data"
    },
    {
     "data": {
      "text/html": [
       "Syncing run <strong><a href=\"https://wandb.ai/xariusdrake/simple_a2c/runs/3jewyw8g\" target=\"_blank\">CartPole-v1__A2C__42__x_1671859865</a></strong> to <a href=\"https://wandb.ai/xariusdrake/simple_a2c\" target=\"_blank\">Weights & Biases</a> (<a href=\"https://wandb.me/run\" target=\"_blank\">docs</a>)<br/>"
      ],
      "text/plain": [
       "<IPython.core.display.HTML object>"
      ]
     },
     "metadata": {},
     "output_type": "display_data"
    },
    {
     "data": {
      "text/html": [
       "<button onClick=\"this.nextSibling.style.display='block';this.style.display='none';\">Display W&B run</button><iframe src=\"https://wandb.ai/xariusdrake/simple_a2c/runs/3jewyw8g?jupyter=true\" style=\"border:none;width:100%;height:420px;display:none;\"></iframe>"
      ],
      "text/plain": [
       "<wandb.sdk.wandb_run.Run at 0x178495490>"
      ]
     },
     "execution_count": 6,
     "metadata": {},
     "output_type": "execute_result"
    }
   ],
   "source": [
    "import wandb\n",
    "import time\n",
    "\n",
    "run_name = f\"{gym_id}__{exp_name}__{seed}__x_{int(time.time())}\"\n",
    "\n",
    "wandb.init(\n",
    "    project=\"simple_a2c\",\n",
    "    # entity=args.wandb_entity,\n",
    "    sync_tensorboard=True,\n",
    "    # config=vars(args),\n",
    "    name=run_name,\n",
    "    monitor_gym=True,\n",
    "    save_code=True,\n",
    ")"
   ]
  },
  {
   "cell_type": "code",
   "execution_count": 16,
   "metadata": {},
   "outputs": [
    {
     "data": {
      "text/plain": [
       "'CartPole-v1__A2C__42__x_1671859865'"
      ]
     },
     "execution_count": 16,
     "metadata": {},
     "output_type": "execute_result"
    }
   ],
   "source": [
    "run_name"
   ]
  },
  {
   "cell_type": "code",
   "execution_count": 17,
   "metadata": {},
   "outputs": [],
   "source": [
    "env = gym.make(gym_id)"
   ]
  },
  {
   "cell_type": "code",
   "execution_count": 18,
   "metadata": {},
   "outputs": [],
   "source": [
    "n_observations = env.observation_space.shape[0]\n",
    "n_actions = env.action_space.n\n",
    "\n",
    "actor = ActorNet(n_observations, n_actions, hidden_size=128)\n",
    "critic = CriticNet(n_observations, n_actions, hidden_size=128)\n",
    "\n",
    "LEARNING_RATE = 0.001\n",
    "\n",
    "actor_optim = optim.Adam(actor.parameters(), lr=LEARNING_RATE)\n",
    "critic_optim = optim.Adam(critic.parameters(), lr=LEARNING_RATE)\n",
    "    \n",
    "# critic_loss_func = nn.MSELoss()\n",
    "critic_loss_func = nn.SmoothL1Loss()"
   ]
  },
  {
   "cell_type": "code",
   "execution_count": 21,
   "metadata": {},
   "outputs": [
    {
     "data": {
      "text/plain": [
       "ActorNet(\n",
       "  (layers): Sequential(\n",
       "    (0): Linear(in_features=4, out_features=128, bias=True)\n",
       "    (1): ReLU()\n",
       "    (2): Linear(in_features=128, out_features=2, bias=True)\n",
       "    (3): Softmax(dim=-1)\n",
       "  )\n",
       ")"
      ]
     },
     "execution_count": 21,
     "metadata": {},
     "output_type": "execute_result"
    }
   ],
   "source": [
    "actor"
   ]
  },
  {
   "cell_type": "markdown",
   "metadata": {},
   "source": []
  },
  {
   "cell_type": "code",
   "execution_count": 10,
   "metadata": {},
   "outputs": [],
   "source": [
    "def compute_actor_loss(log_probs: List[torch.Tensor], advantages: List[torch.Tensor]):\n",
    "    \"\"\"Calculate the advantage loss for actor\n",
    "\n",
    "    Args:\n",
    "        log_probs (_type_): a list of \n",
    "        advantages (_type_): _description_\n",
    "\n",
    "    Returns:\n",
    "        _type_: _description_\n",
    "    \"\"\"\n",
    "    assert len(log_probs) == len(advantages)\n",
    "    \n",
    "    total_loss = 0\n",
    "    for log_prob, advantage in zip(log_probs, advantages):\n",
    "        total_loss = log_prob * advantage\n",
    "    \n",
    "    # return -(torch.sum(log_probs * advantages))\n",
    "    return -total_loss"
   ]
  },
  {
   "cell_type": "code",
   "execution_count": 12,
   "metadata": {},
   "outputs": [
    {
     "ename": "KeyboardInterrupt",
     "evalue": "",
     "output_type": "error",
     "traceback": [
      "\u001b[0;31m---------------------------------------------------------------------------\u001b[0m",
      "\u001b[0;31mKeyboardInterrupt\u001b[0m                         Traceback (most recent call last)",
      "Cell \u001b[0;32mIn[12], line 47\u001b[0m\n\u001b[1;32m     45\u001b[0m _pred_q_values \u001b[39m=\u001b[39m torch\u001b[39m.\u001b[39mtensor(pred_q_values)\n\u001b[1;32m     46\u001b[0m _pred_q_values\u001b[39m.\u001b[39mrequires_grad \u001b[39m=\u001b[39m \u001b[39mTrue\u001b[39;00m\n\u001b[0;32m---> 47\u001b[0m loss_critic \u001b[39m=\u001b[39m critic_loss_func(discounted_returns, _pred_q_values)\n\u001b[1;32m     49\u001b[0m episode_actor_losses\u001b[39m.\u001b[39mappend(loss_actor\u001b[39m.\u001b[39mdetach()\u001b[39m.\u001b[39mnumpy())\n\u001b[1;32m     50\u001b[0m episode_critic_losses\u001b[39m.\u001b[39mappend(loss_critic\u001b[39m.\u001b[39mdetach()\u001b[39m.\u001b[39mnumpy())\n",
      "Cell \u001b[0;32mIn[12], line 47\u001b[0m\n\u001b[1;32m     45\u001b[0m _pred_q_values \u001b[39m=\u001b[39m torch\u001b[39m.\u001b[39mtensor(pred_q_values)\n\u001b[1;32m     46\u001b[0m _pred_q_values\u001b[39m.\u001b[39mrequires_grad \u001b[39m=\u001b[39m \u001b[39mTrue\u001b[39;00m\n\u001b[0;32m---> 47\u001b[0m loss_critic \u001b[39m=\u001b[39m critic_loss_func(discounted_returns, _pred_q_values)\n\u001b[1;32m     49\u001b[0m episode_actor_losses\u001b[39m.\u001b[39mappend(loss_actor\u001b[39m.\u001b[39mdetach()\u001b[39m.\u001b[39mnumpy())\n\u001b[1;32m     50\u001b[0m episode_critic_losses\u001b[39m.\u001b[39mappend(loss_critic\u001b[39m.\u001b[39mdetach()\u001b[39m.\u001b[39mnumpy())\n",
      "File \u001b[0;32m_pydevd_bundle/pydevd_cython.pyx:1457\u001b[0m, in \u001b[0;36m_pydevd_bundle.pydevd_cython.SafeCallWrapper.__call__\u001b[0;34m()\u001b[0m\n",
      "File \u001b[0;32m_pydevd_bundle/pydevd_cython.pyx:701\u001b[0m, in \u001b[0;36m_pydevd_bundle.pydevd_cython.PyDBFrame.trace_dispatch\u001b[0;34m()\u001b[0m\n",
      "File \u001b[0;32m_pydevd_bundle/pydevd_cython.pyx:1152\u001b[0m, in \u001b[0;36m_pydevd_bundle.pydevd_cython.PyDBFrame.trace_dispatch\u001b[0;34m()\u001b[0m\n",
      "File \u001b[0;32m_pydevd_bundle/pydevd_cython.pyx:1135\u001b[0m, in \u001b[0;36m_pydevd_bundle.pydevd_cython.PyDBFrame.trace_dispatch\u001b[0;34m()\u001b[0m\n",
      "File \u001b[0;32m_pydevd_bundle/pydevd_cython.pyx:312\u001b[0m, in \u001b[0;36m_pydevd_bundle.pydevd_cython.PyDBFrame.do_wait_suspend\u001b[0;34m()\u001b[0m\n",
      "File \u001b[0;32m~/miniforge3/envs/gym/lib/python3.8/site-packages/debugpy/_vendored/pydevd/pydevd.py:2067\u001b[0m, in \u001b[0;36mPyDB.do_wait_suspend\u001b[0;34m(self, thread, frame, event, arg, exception_type)\u001b[0m\n\u001b[1;32m   2064\u001b[0m             from_this_thread\u001b[39m.\u001b[39mappend(frame_custom_thread_id)\n\u001b[1;32m   2066\u001b[0m     \u001b[39mwith\u001b[39;00m \u001b[39mself\u001b[39m\u001b[39m.\u001b[39m_threads_suspended_single_notification\u001b[39m.\u001b[39mnotify_thread_suspended(thread_id, stop_reason):\n\u001b[0;32m-> 2067\u001b[0m         keep_suspended \u001b[39m=\u001b[39m \u001b[39mself\u001b[39;49m\u001b[39m.\u001b[39;49m_do_wait_suspend(thread, frame, event, arg, suspend_type, from_this_thread, frames_tracker)\n\u001b[1;32m   2069\u001b[0m frames_list \u001b[39m=\u001b[39m \u001b[39mNone\u001b[39;00m\n\u001b[1;32m   2071\u001b[0m \u001b[39mif\u001b[39;00m keep_suspended:\n\u001b[1;32m   2072\u001b[0m     \u001b[39m# This means that we should pause again after a set next statement.\u001b[39;00m\n",
      "File \u001b[0;32m~/miniforge3/envs/gym/lib/python3.8/site-packages/debugpy/_vendored/pydevd/pydevd.py:2103\u001b[0m, in \u001b[0;36mPyDB._do_wait_suspend\u001b[0;34m(self, thread, frame, event, arg, suspend_type, from_this_thread, frames_tracker)\u001b[0m\n\u001b[1;32m   2100\u001b[0m         \u001b[39mself\u001b[39m\u001b[39m.\u001b[39m_call_input_hook()\n\u001b[1;32m   2102\u001b[0m     \u001b[39mself\u001b[39m\u001b[39m.\u001b[39mprocess_internal_commands()\n\u001b[0;32m-> 2103\u001b[0m     time\u001b[39m.\u001b[39;49msleep(\u001b[39m0.01\u001b[39;49m)\n\u001b[1;32m   2105\u001b[0m \u001b[39mself\u001b[39m\u001b[39m.\u001b[39mcancel_async_evaluation(get_current_thread_id(thread), \u001b[39mstr\u001b[39m(\u001b[39mid\u001b[39m(frame)))\n\u001b[1;32m   2107\u001b[0m \u001b[39m# process any stepping instructions\u001b[39;00m\n",
      "\u001b[0;31mKeyboardInterrupt\u001b[0m: "
     ]
    }
   ],
   "source": [
    "N_EPISODES = 10000\n",
    "DISCOUNT_FACTOR = 0.99\n",
    "\n",
    "episode_rewards = []\n",
    "episode_actor_losses = []\n",
    "episode_critic_losses = []\n",
    "\n",
    "for episode in range(N_EPISODES):\n",
    "    \n",
    "    pred_log_probs = []\n",
    "    pred_q_values = []\n",
    "    rewards = []\n",
    "    total_reward = 0\n",
    "\n",
    "    observation, _ = env.reset()\n",
    "    observation = torch.from_numpy(observation)\n",
    "    in_progress = True\n",
    "    \n",
    "    while in_progress:\n",
    "        pred_action = actor(observation)\n",
    "        pred_value = critic(observation)\n",
    "\n",
    "        action_idx = Categorical(pred_action).sample().item()\n",
    "                        \n",
    "        new_observation, reward, done, truncated, info = env.step(action_idx)\n",
    "        reward = torch.tensor(reward)\n",
    "        \n",
    "        pred_log_probs.append(pred_action[action_idx].log())\n",
    "        pred_q_values.append(pred_value)\n",
    "        rewards.append(reward)\n",
    "        total_reward += reward\n",
    "        \n",
    "        if done: break\n",
    "        \n",
    "        observation = torch.from_numpy(new_observation)\n",
    "        \n",
    "        \n",
    "    # TODO: this one make it loss grad\n",
    "    # pred_q_values = torch.tensor(pred_q_values)\n",
    "    \n",
    "    discounted_returns = calculate_discounted_return_each_timestep(rewards, DISCOUNT_FACTOR)\n",
    "    advantages = calculate_advantages(discounted_returns, torch.tensor(pred_q_values))\n",
    "    loss_actor = compute_actor_loss(pred_log_probs, advantages)\n",
    "    \n",
    "    _pred_q_values = torch.tensor(pred_q_values)\n",
    "    _pred_q_values.requires_grad = True\n",
    "    loss_critic = critic_loss_func(discounted_returns, _pred_q_values)\n",
    "    \n",
    "    episode_actor_losses.append(loss_actor.detach().numpy())\n",
    "    episode_critic_losses.append(loss_critic.detach().numpy())\n",
    "    episode_rewards.append(total_reward)\n",
    "    \n",
    "    wandb.log({\n",
    "        \"actor_losses\": loss_actor.detach().numpy(),\n",
    "        \"critic_losses\": loss_critic.detach().numpy(),\n",
    "        \"rewards\": total_reward\n",
    "    })\n",
    "\n",
    "    \n",
    "    actor_optim.zero_grad()\n",
    "    critic_optim.zero_grad()\n",
    "    \n",
    "    loss_actor.backward()\n",
    "    loss_critic.backward()\n",
    "    \n",
    "    actor_optim.step()\n",
    "    critic_optim.step()\n",
    "    \n",
    "    print(f\"episode={episode} loss_actor={loss_actor}, loss_critic={loss_critic}\")"
   ]
  },
  {
   "cell_type": "code",
   "execution_count": 74,
   "metadata": {},
   "outputs": [
    {
     "data": {
      "text/plain": [
       "15.529225"
      ]
     },
     "execution_count": 74,
     "metadata": {},
     "output_type": "execute_result"
    },
    {
     "name": "stderr",
     "output_type": "stream",
     "text": [
      "wandb: ERROR Dropped streaming file chunk (see wandb/debug-internal.log)\n"
     ]
    }
   ],
   "source": [
    "import numpy as np\n",
    "\n",
    "np.array(episode_rewards).var()"
   ]
  },
  {
   "cell_type": "code",
   "execution_count": 75,
   "metadata": {},
   "outputs": [
    {
     "data": {
      "text/plain": [
       "[<matplotlib.lines.Line2D at 0x17fb31520>]"
      ]
     },
     "execution_count": 75,
     "metadata": {},
     "output_type": "execute_result"
    },
    {
     "data": {
      "image/png": "[encoded data removed]",
      "text/plain": [
       "<Figure size 640x480 with 1 Axes>"
      ]
     },
     "metadata": {},
     "output_type": "display_data"
    },
    {
     "name": "stderr",
     "output_type": "stream",
     "text": [
      "wandb: ERROR Dropped streaming file chunk (see wandb/debug-internal.log)\n"
     ]
    }
   ],
   "source": [
    "import matplotlib.pyplot as plt\n",
    "plt.plot(episode_rewards)"
   ]
  },
  {
   "cell_type": "code",
   "execution_count": 69,
   "metadata": {},
   "outputs": [
    {
     "name": "stderr",
     "output_type": "stream",
     "text": [
      "No artists with labels found to put in legend.  Note that artists whose label start with an underscore are ignored when legend() is called with no argument.\n"
     ]
    },
    {
     "data": {
      "image/png": "[encoded data removed]",
      "text/plain": [
       "<Figure size 640x480 with 1 Axes>"
      ]
     },
     "metadata": {},
     "output_type": "display_data"
    }
   ],
   "source": [
    "# import matplotlib.pyplot as plt\n",
    "# plt.plot(episode_critic_losses)\n",
    "\n",
    "# plt.legend()\n",
    "\n",
    "# # show the plot\n",
    "# plt.show()"
   ]
  },
  {
   "cell_type": "code",
   "execution_count": 71,
   "metadata": {},
   "outputs": [],
   "source": [
    "# import matplotlib.pyplot as plt\n",
    "# plt.plot(episode_actor_losses)\n",
    "\n",
    "# plt.legend()\n",
    "\n",
    "# # show the plot\n",
    "# plt.show()"
   ]
  },
  {
   "cell_type": "code",
   "execution_count": null,
   "metadata": {},
   "outputs": [],
   "source": []
  }
 ],
 "metadata": {
  "kernelspec": {
   "display_name": "gym",
   "language": "python",
   "name": "python3"
  },
  "language_info": {
   "codemirror_mode": {
    "name": "ipython",
    "version": 3
   },
   "file_extension": ".py",
   "mimetype": "text/x-python",
   "name": "python",
   "nbconvert_exporter": "python",
   "pygments_lexer": "ipython3",
   "version": "3.8.15 | packaged by conda-forge | (default, Nov 22 2022, 08:49:06) \n[Clang 14.0.6 ]"
  },
  "orig_nbformat": 4,
  "vscode": {
   "interpreter": {
    "hash": "a51d2d6d25395c24e0d12246d2018dcbf7cbc51d78bb42126dff68c94d75ef25"
   }
  }
 },
 "nbformat": 4,
 "nbformat_minor": 2
}
